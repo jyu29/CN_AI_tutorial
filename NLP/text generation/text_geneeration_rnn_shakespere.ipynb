{
  "nbformat": 4,
  "nbformat_minor": 0,
  "metadata": {
    "colab": {
      "name": "text_geneeration_rnn_shakespere.ipynb",
      "provenance": [],
      "toc_visible": true
    },
    "kernelspec": {
      "name": "python3",
      "display_name": "Python 3"
    },
    "language_info": {
      "name": "python"
    }
  },
  "cells": [
    {
      "cell_type": "markdown",
      "source": [
        "# import package"
      ],
      "metadata": {
        "id": "5jYxCG5heVq9"
      }
    },
    {
      "cell_type": "code",
      "source": [
        "import numpy as np\n",
        "import tensorflow as tf\n",
        "from tensorflow import keras\n",
        "from tensorflow.keras.layers import Dense, LSTM, Embedding\n",
        "import matplotlib.pyplot as plt "
      ],
      "metadata": {
        "id": "P2sn6vpjeXZT"
      },
      "execution_count": 1,
      "outputs": []
    },
    {
      "cell_type": "code",
      "source": [
        ""
      ],
      "metadata": {
        "id": "Don6W7qeeaMW"
      },
      "execution_count": null,
      "outputs": []
    },
    {
      "cell_type": "code",
      "source": [
        ""
      ],
      "metadata": {
        "id": "PIEjUCq4ejuf"
      },
      "execution_count": null,
      "outputs": []
    },
    {
      "cell_type": "markdown",
      "source": [
        "# download text data\n",
        "\n",
        "We need text data to train our model. TensorFlow’s data collection has a text file with contents extracted from various Shakespearean plays. Download the data file from Google Cloud Storage."
      ],
      "metadata": {
        "id": "ZH1XFoZpejTh"
      }
    },
    {
      "cell_type": "code",
      "source": [
        "file_URL = \"https://storage.googleapis.com/download.tensorflow.org/data/shakespeare.txt\"\n",
        "file_name= \"shakespeare.txt\"\n",
        " # get the file path\n",
        "path = keras.utils.get_file(file_name, file_URL) \n"
      ],
      "metadata": {
        "colab": {
          "base_uri": "https://localhost:8080/"
        },
        "id": "M1ffv4ZgeoqE",
        "outputId": "8d2518be-ed68-48de-b769-c1d02889ee56"
      },
      "execution_count": 2,
      "outputs": [
        {
          "output_type": "stream",
          "name": "stdout",
          "text": [
            "Downloading data from https://storage.googleapis.com/download.tensorflow.org/data/shakespeare.txt\n",
            "1122304/1115394 [==============================] - 0s 0us/step\n",
            "1130496/1115394 [==============================] - 0s 0us/step\n"
          ]
        }
      ]
    },
    {
      "cell_type": "code",
      "source": [
        " raw = open(path, 'rb').read()\n",
        " print(raw[250:400]) "
      ],
      "metadata": {
        "colab": {
          "base_uri": "https://localhost:8080/"
        },
        "id": "EE3v-6Fler0j",
        "outputId": "c01163c2-04a2-49e2-aa9b-c802443decfb"
      },
      "execution_count": 3,
      "outputs": [
        {
          "output_type": "stream",
          "name": "stdout",
          "text": [
            "b\"\\nAll:\\nWe know't, we know't.\\n\\nFirst Citizen:\\nLet us kill him, and we'll have corn at our own price.\\nIs't a verdict?\\n\\nAll:\\nNo more talking on't; let it \"\n"
          ]
        }
      ]
    },
    {
      "cell_type": "code",
      "source": [
        " text = raw.decode(encoding='utf-8')\n",
        " print(text[250:400]) "
      ],
      "metadata": {
        "colab": {
          "base_uri": "https://localhost:8080/"
        },
        "id": "VZBYMHZEeu9e",
        "outputId": "93f98991-712f-451a-c806-642504a6cbf4"
      },
      "execution_count": 5,
      "outputs": [
        {
          "output_type": "stream",
          "name": "stdout",
          "text": [
            "\n",
            "All:\n",
            "We know't, we know't.\n",
            "\n",
            "First Citizen:\n",
            "Let us kill him, and we'll have corn at our own price.\n",
            "Is't a verdict?\n",
            "\n",
            "All:\n",
            "No more talking on't; let it \n"
          ]
        }
      ]
    },
    {
      "cell_type": "code",
      "source": [
        ""
      ],
      "metadata": {
        "id": "k0TSUBz3exgd"
      },
      "execution_count": null,
      "outputs": []
    },
    {
      "cell_type": "markdown",
      "source": [
        "# Vectorize Word Characters into Integers\n",
        "A deep learning model can not accept text characters as inputs. It should be encoded into integers that a model can understand and process with. Though there are more than a million characters in the given text, there will be a countable number of unique characters. The collection of unique characters is called vocabulary."
      ],
      "metadata": {
        "id": "vPRnw-4ge9Qo"
      }
    },
    {
      "cell_type": "code",
      "source": [
        " # unique characters\n",
        " vocabulary = np.array(sorted(set(text)))\n",
        " len(vocabulary) "
      ],
      "metadata": {
        "colab": {
          "base_uri": "https://localhost:8080/"
        },
        "id": "uFmvkZMpfAfH",
        "outputId": "a0950753-3bc5-4cbb-ab09-f6f9002ef45e"
      },
      "execution_count": 6,
      "outputs": [
        {
          "output_type": "execute_result",
          "data": {
            "text/plain": [
              "65"
            ]
          },
          "metadata": {},
          "execution_count": 6
        }
      ]
    },
    {
      "cell_type": "code",
      "source": [
        ""
      ],
      "metadata": {
        "id": "bF2NKbU4fF1K"
      },
      "execution_count": null,
      "outputs": []
    },
    {
      "cell_type": "markdown",
      "source": [
        "Define a tokenizer that can convert a text character into a corresponding integer. There will be 65 integers starting from 0 and ending at 64. We can assign integers on our own as per the order of characters in the vocabulary."
      ],
      "metadata": {
        "id": "s09hJ2OGfJN_"
      }
    },
    {
      "cell_type": "code",
      "source": [
        " # assign an integer to each character\n",
        " tokenizer = {char:i for i,char in enumerate(vocabulary)} "
      ],
      "metadata": {
        "id": "a_7ZcFcYfL1G"
      },
      "execution_count": 7,
      "outputs": []
    },
    {
      "cell_type": "code",
      "source": [
        "# check characters and its corresponding integer\n",
        "for i in range(20):\n",
        "  char = vocabulary[i]\n",
        "  token = tokenizer[char]\n",
        "  print('%4s : %4d'%(repr(char),token)) "
      ],
      "metadata": {
        "colab": {
          "base_uri": "https://localhost:8080/"
        },
        "id": "D80UczsWfPCY",
        "outputId": "43689a4d-ec9c-4914-d651-d75de0695b57"
      },
      "execution_count": 10,
      "outputs": [
        {
          "output_type": "stream",
          "name": "stdout",
          "text": [
            "'\\n' :    0\n",
            " ' ' :    1\n",
            " '!' :    2\n",
            " '$' :    3\n",
            " '&' :    4\n",
            " \"'\" :    5\n",
            " ',' :    6\n",
            " '-' :    7\n",
            " '.' :    8\n",
            " '3' :    9\n",
            " ':' :   10\n",
            " ';' :   11\n",
            " '?' :   12\n",
            " 'A' :   13\n",
            " 'B' :   14\n",
            " 'C' :   15\n",
            " 'D' :   16\n",
            " 'E' :   17\n",
            " 'F' :   18\n",
            " 'G' :   19\n"
          ]
        }
      ]
    },
    {
      "cell_type": "code",
      "source": [
        ""
      ],
      "metadata": {
        "id": "Ec5neckPfRfQ"
      },
      "execution_count": null,
      "outputs": []
    },
    {
      "cell_type": "markdown",
      "source": [
        "Vectorize the entire text and check whether the built tokenizer can encode and decode – texts and integers properly. "
      ],
      "metadata": {
        "id": "3WF09uiifgs9"
      }
    },
    {
      "cell_type": "code",
      "source": [
        "vector = np.array([tokenizer[char] for char in text])\n",
        "print('\\nSample Text \\n')\n",
        "print('-'*70)\n",
        "print(text[:100])\n",
        "print('-'*70)\n",
        "print('\\n\\nCorresponding Integer Vector \\n')\n",
        "print('-'*70)\n",
        "print(vector[:100])\n",
        "print('-'*70) "
      ],
      "metadata": {
        "colab": {
          "base_uri": "https://localhost:8080/"
        },
        "id": "M7-ZV7YffhD_",
        "outputId": "470cbfa8-6911-4f6e-d2c4-700b1a3c0bc4"
      },
      "execution_count": 11,
      "outputs": [
        {
          "output_type": "stream",
          "name": "stdout",
          "text": [
            "\n",
            "Sample Text \n",
            "\n",
            "----------------------------------------------------------------------\n",
            "First Citizen:\n",
            "Before we proceed any further, hear me speak.\n",
            "\n",
            "All:\n",
            "Speak, speak.\n",
            "\n",
            "First Citizen:\n",
            "You\n",
            "----------------------------------------------------------------------\n",
            "\n",
            "\n",
            "Corresponding Integer Vector \n",
            "\n",
            "----------------------------------------------------------------------\n",
            "[18 47 56 57 58  1 15 47 58 47 64 43 52 10  0 14 43 44 53 56 43  1 61 43\n",
            "  1 54 56 53 41 43 43 42  1 39 52 63  1 44 59 56 58 46 43 56  6  1 46 43\n",
            " 39 56  1 51 43  1 57 54 43 39 49  8  0  0 13 50 50 10  0 31 54 43 39 49\n",
            "  6  1 57 54 43 39 49  8  0  0 18 47 56 57 58  1 15 47 58 47 64 43 52 10\n",
            "  0 37 53 59]\n",
            "----------------------------------------------------------------------\n"
          ]
        }
      ]
    },
    {
      "cell_type": "code",
      "source": [
        ""
      ],
      "metadata": {
        "id": "08VbBPF8fkq4"
      },
      "execution_count": null,
      "outputs": []
    },
    {
      "cell_type": "markdown",
      "source": [
        "Text with one million encoded characters can not be fed into a model as such. Since we predict characters, the text must be broken down into sequences of some predefined length and then fed into the model. Use TensorFlow’s batch method to create sequences of 100 characters each. Prior to that, convert the NumPy arrays into tensors to make further processes using TensorFlow."
      ],
      "metadata": {
        "id": "UeGx3TZvfyqy"
      }
    },
    {
      "cell_type": "code",
      "source": [
        "# convert into tensors\n",
        "vector = tf.data.Dataset.from_tensor_slices(vector)\n",
        " # make sequences each of length 100 characters\n",
        "sequences = vector.batch(100, drop_remainder=True) "
      ],
      "metadata": {
        "id": "F6GrIhZHfzNH"
      },
      "execution_count": 13,
      "outputs": []
    },
    {
      "cell_type": "code",
      "source": [
        ""
      ],
      "metadata": {
        "id": "sv3OM7DpgAY0"
      },
      "execution_count": 14,
      "outputs": []
    },
    {
      "cell_type": "markdown",
      "source": [
        "Recurrent neural networks predict the subsequent characters based on the past characters. RNNs require a sequence of input characters and the corresponding target sequence with the subsequent characters for training. Prepare input sequences with the first 99 characters and corresponding target sequences with the last 99 characters."
      ],
      "metadata": {
        "id": "O6lRG2jUgHWL"
      }
    },
    {
      "cell_type": "code",
      "source": [
        " def prepare_dataset(seq):\n",
        "     input_vector = seq[:-1]\n",
        "     target_vector = seq[1:]\n",
        "     return input_vector, target_vector\n",
        " dataset = sequences.map(prepare_dataset)"
      ],
      "metadata": {
        "id": "4B_AXRfhgHuA"
      },
      "execution_count": 15,
      "outputs": []
    },
    {
      "cell_type": "code",
      "source": [
        "# check how it looks\n",
        "for inp, tar in dataset.take(1):\n",
        "  print(inp.numpy())\n",
        "  print(tar.numpy())\n",
        "  inp_text = ''.join(vocabulary[inp])\n",
        "  tar_text = ''.join(vocabulary[tar])\n",
        "  print(repr(inp_text))\n",
        "  print(repr(tar_text))"
      ],
      "metadata": {
        "colab": {
          "base_uri": "https://localhost:8080/"
        },
        "id": "jXprZgTVgNLJ",
        "outputId": "7190ce5b-71ac-482d-8390-f43991ab7c27"
      },
      "execution_count": 16,
      "outputs": [
        {
          "output_type": "stream",
          "name": "stdout",
          "text": [
            "[18 47 56 57 58  1 15 47 58 47 64 43 52 10  0 14 43 44 53 56 43  1 61 43\n",
            "  1 54 56 53 41 43 43 42  1 39 52 63  1 44 59 56 58 46 43 56  6  1 46 43\n",
            " 39 56  1 51 43  1 57 54 43 39 49  8  0  0 13 50 50 10  0 31 54 43 39 49\n",
            "  6  1 57 54 43 39 49  8  0  0 18 47 56 57 58  1 15 47 58 47 64 43 52 10\n",
            "  0 37 53]\n",
            "[47 56 57 58  1 15 47 58 47 64 43 52 10  0 14 43 44 53 56 43  1 61 43  1\n",
            " 54 56 53 41 43 43 42  1 39 52 63  1 44 59 56 58 46 43 56  6  1 46 43 39\n",
            " 56  1 51 43  1 57 54 43 39 49  8  0  0 13 50 50 10  0 31 54 43 39 49  6\n",
            "  1 57 54 43 39 49  8  0  0 18 47 56 57 58  1 15 47 58 47 64 43 52 10  0\n",
            " 37 53 59]\n",
            "'First Citizen:\\nBefore we proceed any further, hear me speak.\\n\\nAll:\\nSpeak, speak.\\n\\nFirst Citizen:\\nYo'\n",
            "'irst Citizen:\\nBefore we proceed any further, hear me speak.\\n\\nAll:\\nSpeak, speak.\\n\\nFirst Citizen:\\nYou'\n"
          ]
        }
      ]
    },
    {
      "cell_type": "code",
      "source": [
        ""
      ],
      "metadata": {
        "id": "JgPYDp31gTTz"
      },
      "execution_count": null,
      "outputs": []
    },
    {
      "cell_type": "markdown",
      "source": [
        "# Batch and Prefetch data\n",
        "Model will be trained with Stochastic Gradient Descent (SGD) based optimizer Adam. It requires the input data to be batched. Further, TensorFlow’s prefetch method helps training with optimized memory. It fetches data batches just before the training requires them. We prefer not to shuffle the data to retain the contextual order of sequences."
      ],
      "metadata": {
        "id": "CT5jzrixgdcL"
      }
    },
    {
      "cell_type": "code",
      "source": [
        " AUTOTUNE = tf.data.AUTOTUNE\n",
        " # buffer size 10000\n",
        " # batch size 64\n",
        " data = dataset.batch(64, drop_remainder=True).repeat()\n",
        " data = data.prefetch(AUTOTUNE)\n",
        " # steps per epoch is number of batches available\n",
        " STEPS_PER_EPOCH = len(sequences)//64\n",
        " for inp, tar in data.take(1):\n",
        "     print(inp.numpy().shape)\n",
        "     print(tar.numpy().shape) "
      ],
      "metadata": {
        "colab": {
          "base_uri": "https://localhost:8080/"
        },
        "id": "bLof3qyOgeip",
        "outputId": "bc5007df-d1bc-4e04-c052-21fe6caaaca5"
      },
      "execution_count": 17,
      "outputs": [
        {
          "output_type": "stream",
          "name": "stdout",
          "text": [
            "(64, 99)\n",
            "(64, 99)\n"
          ]
        }
      ]
    },
    {
      "cell_type": "markdown",
      "source": [
        "# Build an RNN Model \n",
        "Recurrent neural networks are good at modeling time-dependent data because of its ability to retain time-steps based information in memory. Since texts have contextual information that are determined purely by order of the words, natural language processing heavily relies on sequence modeling architectures such as RNN. Here, an LSTM (Long Short-Term Memory) layers-based recurrent neural network is developed to model the task. While implementing LSTM layers, we enable stateful argument as True to keep the time-step memory of previous states while learning with consequent batches in an epoch. It helps capture the context among consecutive sequences."
      ],
      "metadata": {
        "id": "zKjW0eAIgmqz"
      }
    },
    {
      "cell_type": "code",
      "source": [
        "model = keras.Sequential([\n",
        "     # Embed len(vocabulary) into 64 dimensions\n",
        "     Embedding(len(vocabulary), 64, batch_input_shape=[64,None]),\n",
        "     # LSTM RNN layers\n",
        "     LSTM(512, return_sequences=True, stateful=True),\n",
        "     LSTM(512, return_sequences=True, stateful=True),\n",
        "     # Classification head\n",
        "     Dense(len(vocabulary))\n",
        " ])\n",
        "model.summary() "
      ],
      "metadata": {
        "colab": {
          "base_uri": "https://localhost:8080/"
        },
        "id": "ijqJBqMGguRE",
        "outputId": "1b0c30d2-2261-4b5e-90bc-bf0a93b56ad5"
      },
      "execution_count": 19,
      "outputs": [
        {
          "output_type": "stream",
          "name": "stdout",
          "text": [
            "Model: \"sequential\"\n",
            "_________________________________________________________________\n",
            " Layer (type)                Output Shape              Param #   \n",
            "=================================================================\n",
            " embedding (Embedding)       (64, None, 64)            4160      \n",
            "                                                                 \n",
            " lstm (LSTM)                 (64, None, 512)           1181696   \n",
            "                                                                 \n",
            " lstm_1 (LSTM)               (64, None, 512)           2099200   \n",
            "                                                                 \n",
            " dense (Dense)               (64, None, 65)            33345     \n",
            "                                                                 \n",
            "=================================================================\n",
            "Total params: 3,318,401\n",
            "Trainable params: 3,318,401\n",
            "Non-trainable params: 0\n",
            "_________________________________________________________________\n"
          ]
        }
      ]
    },
    {
      "cell_type": "code",
      "source": [
        ""
      ],
      "metadata": {
        "id": "lWbFFOD4guON"
      },
      "execution_count": null,
      "outputs": []
    },
    {
      "cell_type": "code",
      "source": [
        ""
      ],
      "metadata": {
        "id": "LBpPxcMfguLI"
      },
      "execution_count": null,
      "outputs": []
    },
    {
      "cell_type": "markdown",
      "source": [
        "# Train the RNN Model"
      ],
      "metadata": {
        "id": "Aec1bxHyhCAm"
      }
    },
    {
      "cell_type": "code",
      "source": [
        "# test whether the untrained model performs good\n",
        "for example_inp, example_tar in data.take(1):\n",
        "  example_pred = model(example_inp)\n",
        "  print(example_tar.numpy().shape)\n",
        "  print(example_pred.shape) \n"
      ],
      "metadata": {
        "colab": {
          "base_uri": "https://localhost:8080/"
        },
        "id": "B8HVKj8QguH9",
        "outputId": "df2b174b-9c0f-4999-fd1c-fe78d217fdf5"
      },
      "execution_count": 22,
      "outputs": [
        {
          "output_type": "stream",
          "name": "stdout",
          "text": [
            "(64, 99)\n",
            "(64, 99, 65)\n"
          ]
        }
      ]
    },
    {
      "cell_type": "markdown",
      "source": [
        "The target shape is (64, 99), which refers to the batch size and the number of characters in that sequence. The last shape, 65, in the prediction refers to the size of the vocabulary. The model predicts the probability of occurrence of each character in the vocabulary. The character with a higher probability has more possibility to be the next character.\n",
        "\n",
        "Compile the model with Adam optimizer and Sparse Categorical Cross-entropy loss function. Since we have not employed softmax as the output layer’s activation function. The outputs will be independent but not mutually exclusive. Hence, we should enable the argument ‘from_logits’ to be True while declaring the loss function. Train the model for 10 epochs."
      ],
      "metadata": {
        "id": "CXzXDATAhO-K"
      }
    },
    {
      "cell_type": "code",
      "source": [
        "model.compile(optimizer='adam', \n",
        "      loss=keras.losses.SparseCategoricalCrossentropy(from_logits=True))\n",
        "\n",
        "history = model.fit(data, \n",
        "                     epochs=10, \n",
        "                     steps_per_epoch=STEPS_PER_EPOCH) \n"
      ],
      "metadata": {
        "colab": {
          "base_uri": "https://localhost:8080/"
        },
        "id": "F0eQfEKdhPbv",
        "outputId": "275bd8a7-229e-4540-fa6b-ef88aa032515"
      },
      "execution_count": 23,
      "outputs": [
        {
          "output_type": "stream",
          "name": "stdout",
          "text": [
            "Epoch 1/10\n",
            "174/174 [==============================] - 896s 5s/step - loss: 3.0188\n",
            "Epoch 2/10\n",
            "174/174 [==============================] - 819s 5s/step - loss: 2.2608\n",
            "Epoch 3/10\n",
            "174/174 [==============================] - 825s 5s/step - loss: 1.9833\n",
            "Epoch 4/10\n",
            "174/174 [==============================] - 819s 5s/step - loss: 1.7949\n",
            "Epoch 5/10\n",
            "174/174 [==============================] - 838s 5s/step - loss: 1.6588\n",
            "Epoch 6/10\n",
            "174/174 [==============================] - 842s 5s/step - loss: 1.5628\n",
            "Epoch 7/10\n",
            "174/174 [==============================] - 820s 5s/step - loss: 1.4938\n",
            "Epoch 8/10\n",
            "174/174 [==============================] - 832s 5s/step - loss: 1.4393\n",
            "Epoch 9/10\n",
            "174/174 [==============================] - 844s 5s/step - loss: 1.3954\n",
            "Epoch 10/10\n",
            "174/174 [==============================] - 812s 5s/step - loss: 1.3579\n"
          ]
        }
      ]
    },
    {
      "cell_type": "code",
      "source": [
        ""
      ],
      "metadata": {
        "id": "-iCh5i7qhVe-"
      },
      "execution_count": null,
      "outputs": []
    },
    {
      "cell_type": "markdown",
      "source": [
        "# Model Performance Evaluation\n",
        "Visualizing the losses over epochs may help get better insight on model performance."
      ],
      "metadata": {
        "id": "L4fQnhjNhY_p"
      }
    },
    {
      "cell_type": "code",
      "source": [
        " plt.plot(history.history['loss'], '+-r')\n",
        " plt.title('Performance Analysis', size=16, color='green')\n",
        " plt.xlabel('Epochs', size=14, color='blue')\n",
        " plt.ylabel('Loss', size=14, color='blue')\n",
        " plt.xticks(range(10))\n",
        " plt.show() "
      ],
      "metadata": {
        "colab": {
          "base_uri": "https://localhost:8080/",
          "height": 301
        },
        "id": "LN7CYAawhaIl",
        "outputId": "89e51fe5-a14c-4649-d5d4-37e2d9d4df89"
      },
      "execution_count": 26,
      "outputs": [
        {
          "output_type": "display_data",
          "data": {
            "text/plain": [
              "<Figure size 432x288 with 1 Axes>"
            ],
            "image/png": "[encoded data removed]"
          },
          "metadata": {
            "needs_background": "light"
          }
        }
      ]
    },
    {
      "cell_type": "markdown",
      "source": [
        ""
      ],
      "metadata": {
        "id": "tOM9W3SUh9p_"
      }
    },
    {
      "cell_type": "markdown",
      "source": [
        "# Inference – Next Character Prediction\n",
        "The most awaited part of this task is predicting the next character with the trained model. We can input the model some characters (probably a word) such that it will iteratively predict the next 1000 characters.\n",
        "\n",
        "Before starting prediction with the model, we should reset the model states that were stored in the memory during the last epoch training. However, resetting state memories will not affect the model’s weights."
      ],
      "metadata": {
        "id": "x7_B_dGAh9mg"
      }
    },
    {
      "cell_type": "code",
      "source": [
        "# reset previous states of model\n",
        "model.reset_states() "
      ],
      "metadata": {
        "id": "zi4NdE8FiAmr"
      },
      "execution_count": 30,
      "outputs": []
    },
    {
      "cell_type": "markdown",
      "source": [
        "Make predictions by providing the model ‘ANTHONIO:’ as input characters. Nevertheless, the model expects data in three dimensions: the first dimension being the batch size, 64. Vectorize the input characters, expand the dimensions, broadcast the same vector 64 times to obtain a batch of size 64 sequences. Predictions are made based on the logits output by the model. This can be sensitively adjusted by tuning a hyper-parameter called temperature, which refers to the level of randomness in choosing the probable outcome."
      ],
      "metadata": {
        "id": "q4AT1w_ZiLIX"
      }
    },
    {
      "cell_type": "markdown",
      "source": [
        "By adjusting the temperature value, we can vary randomness and obtain different predictions."
      ],
      "metadata": {
        "id": "CqPGCRD9ierx"
      }
    },
    {
      "cell_type": "code",
      "source": [
        "sample = 'ANTHONIO:'\n",
        " # vectorize the string\n",
        "sample_vector = [tokenizer[s] for s in sample]\n",
        "predicted = sample_vector\n",
        " # convert into tensor of required dimensions\n",
        "sample_tensor = tf.expand_dims(sample_vector, 0) \n",
        " # broadcast to first dimension to 64 \n",
        "sample_tensor = tf.repeat(sample_tensor, 64, axis=0)\n",
        "\n",
        " # predict next 1000 characters\n",
        " # vary temperature to change randomness\n",
        "temperature = 0.8\n",
        "\n",
        "for i in range(1000):\n",
        "     pred = model(sample_tensor)\n",
        "     # reduce unnecessary dimensions\n",
        "     pred = pred[0].numpy()/temperature\n",
        "     pred = tf.random.categorical(pred, num_samples=1)[-1,0].numpy()\n",
        "     predicted.append(pred)\n",
        "     sample_tensor = predicted[-99:]\n",
        "     sample_tensor = tf.expand_dims([pred],0)\n",
        "     # broadcast to first dimension to 64 \n",
        "     sample_tensor = tf.repeat(sample_tensor, 64, axis=0)\n",
        "\n",
        " # integer to text decoding\n",
        "pred_char = [vocabulary[i] for i in predicted]\n",
        "generated = ''.join(pred_char)\n",
        "print(generated) "
      ],
      "metadata": {
        "colab": {
          "base_uri": "https://localhost:8080/"
        },
        "id": "Sy90qdgzifFO",
        "outputId": "58178743-815b-418d-fdff-0b1471915af9"
      },
      "execution_count": 31,
      "outputs": [
        {
          "output_type": "stream",
          "name": "stdout",
          "text": [
            "ANTHONIO:\n",
            "Be pray, sir, call us prepared with her.\n",
            "\n",
            "PROSPERO:\n",
            "Ay, in them are, if I come.\n",
            "\n",
            "BIONDELLO:\n",
            "What. how now, she be known be hanged\n",
            "And\n",
            "great the prince of heavens and all this spire,\n",
            "The curst thy deverence, and with goods?\n",
            "\n",
            "ABLO:\n",
            "Cannot so: it is a thousand passing\n",
            "And see them not! This is the words thou liest,\n",
            "Sweet without your hands: the widest consented fill thou must\n",
            "she kind reposed in masters, bidts forst and Vaint on thee;\n",
            "To say Vercease your blood with thy\n",
            "All as hust thou did'st rett the other love.\n",
            "\n",
            "BIONDELLO:\n",
            "He'r well have scured and mine more weep,\n",
            "But then awake.\n",
            "\n",
            "PETRUCHIO:\n",
            "God since my masters behold no langer on the satistake,\n",
            "And Baptista's sister, say the choler certage\n",
            "As is the dielderch saints in histands tongue\n",
            "Hay the duke is his controat is not some pope men that think,\n",
            "Hents thou confess?\n",
            "\n",
            "BIONDELLO:\n",
            "The time head in your shame!\n",
            "\n",
            "GRUMIO:\n",
            "What man nate, be sit. Tonother! sir!\n",
            "Farewell and this of the duke.\n",
            "\n",
            "PETRUCHIO:\n",
            "Some all the masure sold these night re\n"
          ]
        }
      ]
    }
  ]
}