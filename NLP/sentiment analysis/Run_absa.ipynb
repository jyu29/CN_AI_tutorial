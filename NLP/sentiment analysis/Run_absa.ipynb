{
 "cells": [
  {
   "cell_type": "code",
   "execution_count": 2,
   "id": "00b1ab71",
   "metadata": {},
   "outputs": [
    {
     "data": {
      "application/javascript": [
       "IPython.notebook.set_autosave_interval(300000)"
      ]
     },
     "metadata": {},
     "output_type": "display_data"
    },
    {
     "name": "stdout",
     "output_type": "stream",
     "text": [
      "Autosaving every 300 seconds\n"
     ]
    }
   ],
   "source": [
    "%autosave 300"
   ]
  },
  {
   "cell_type": "code",
   "execution_count": 62,
   "id": "c00c3f94",
   "metadata": {},
   "outputs": [
    {
     "name": "stdout",
     "output_type": "stream",
     "text": [
      "Collecting bert-tokenizer\n",
      "  Downloading bert_tokenizer-0.1.5-py3-none-any.whl (1.2 MB)\n",
      "\u001b[K     |████████████████████████████████| 1.2 MB 969 kB/s eta 0:00:01\n",
      "\u001b[?25hInstalling collected packages: bert-tokenizer\n",
      "Successfully installed bert-tokenizer-0.1.5\n"
     ]
    }
   ],
   "source": [
    "!pip install bert-tokenizer\n"
   ]
  },
  {
   "cell_type": "markdown",
   "id": "57fd60d5",
   "metadata": {},
   "source": [
    "- https://www.kaggle.com/colearninglounge/nlp-model-building-transformers-attention-more#DistilBERT-Model\n",
    "- https://www.kaggle.com/mysfali/bert-transfer-learning-for-imdb-50k-movie-review"
   ]
  },
  {
   "cell_type": "markdown",
   "id": "f428873c",
   "metadata": {},
   "source": [
    "# import package"
   ]
  },
  {
   "cell_type": "code",
   "execution_count": 1,
   "id": "b7b9adbc",
   "metadata": {},
   "outputs": [
    {
     "name": "stderr",
     "output_type": "stream",
     "text": [
      "/home/guandata/anaconda/envs/ai_forecast/lib/python3.8/site-packages/fuzzywuzzy/fuzz.py:11: UserWarning: Using slow pure-python SequenceMatcher. Install python-Levenshtein to remove this warning\n",
      "  warnings.warn('Using slow pure-python SequenceMatcher. Install python-Levenshtein to remove this warning')\n"
     ]
    },
    {
     "name": "stdout",
     "output_type": "stream",
     "text": [
      "package load complete\n"
     ]
    }
   ],
   "source": [
    "import datetime\n",
    "import collections\n",
    "import string\n",
    "import re\n",
    "import nltk\n",
    "from tensorflow.keras import layers\n",
    "import bert\n",
    "import bert_tokenizer as tokenizer\n",
    "from tensorflow.keras.layers import LSTM, GRU, Conv1D, SpatialDropout1D\n",
    "from tensorflow.keras.layers import Layer, InputSpec\n",
    "\n",
    "import math\n",
    "from nltk.corpus import stopwords\n",
    "from nltk.tokenize import word_tokenize\n",
    "import os\n",
    "from tokenizers import BertWordPieceTokenizer\n",
    "from keras.preprocessing.text import Tokenizer\n",
    "# from tensorflow import keras \n",
    "# import keras\n",
    "from keras.layers import Concatenate, BatchNormalization, Bidirectional,SpatialDropout1D,GlobalAveragePooling1D\n",
    "# from keras.layers import SimpleRNN, Input, Dropout, Flatten\n",
    "# from keras.layers.embeddings import Embedding\n",
    "# from keras.layers.core import Dense, Activation\n",
    "# from keras.layers.recurrent import LSTM\n",
    "import tensorflow as tf\n",
    "from tensorflow.keras.models import load_model, Model\n",
    "from tensorflow.keras import regularizers, optimizers\n",
    "from tensorflow.keras.utils import to_categorical\n",
    "from tensorflow.keras.models import Sequential, load_model, Model\n",
    "from tensorflow.keras.preprocessing import sequence, text\n",
    "from tensorflow.keras.preprocessing.text import Tokenizer\n",
    "from fuzzywuzzy import fuzz\n",
    "from sklearn.feature_extraction.text import TfidfVectorizer\n",
    "from sklearn.model_selection import train_test_split\n",
    "from sklearn.preprocessing import LabelEncoder\n",
    "from sklearn import preprocessing\n",
    "from tqdm import tqdm\n",
    "import pandas as pd\n",
    "import numpy as np\n",
    "from matplotlib import pyplot as plt\n",
    "import seaborn as sns\n",
    "import plotly.express as px\n",
    "import warnings\n",
    "from sklearn.metrics import accuracy_score, confusion_matrix\n",
    "from sklearn import preprocessing, impute, utils, linear_model, feature_selection, model_selection, metrics, decomposition, cluster, ensemble\n",
    "from  sklearn.metrics import classification_report \n",
    "from sklearn.feature_extraction.text import TfidfVectorizer\n",
    "from sklearn.naive_bayes import MultinomialNB\n",
    "from sklearn.metrics import accuracy_score, roc_curve, auc\n",
    "from sklearn.ensemble import RandomForestClassifier\n",
    "from sklearn.metrics import precision_score,recall_score,f1_score\n",
    "from tensorflow.keras.preprocessing import text, sequence\n",
    "import tensorflow_hub as hub\n",
    "import tensorflow_text as text\n",
    "# from official.nlp import optimization \n",
    "\n",
    "warnings.filterwarnings(\"ignore\")\n",
    "os.chdir('/data/jyu29/')\n",
    "#######\n",
    "from official.nlp.data import classifier_data_lib\n",
    "from official.nlp.bert import tokenization\n",
    "from official.nlp import optimization\n",
    "from official.nlp.data import classifier_data_lib\n",
    "from keras.preprocessing.sequence import pad_sequences\n",
    "\n",
    "import matplotlib.pyplot as plt\n",
    "%matplotlib inline\n",
    "import tensorflow_text as text  # Registers the ops.\n",
    "import os \n",
    "import tensorflow as tf\n",
    "import tensorflow_hub as hub\n",
    "from official.nlp.data import classifier_data_lib\n",
    "from official.nlp.bert import tokenization\n",
    "from official.nlp import optimization\n",
    "import seaborn as sns\n",
    "import transformers\n",
    "from transformers import BertConfig, TFBertModel\n",
    "from transformers import BertTokenizer, TFBertForSequenceClassification\n",
    "from transformers import InputExample, InputFeatures\n",
    "from tensorflow.keras.layers import Dense,Input, Embedding,LSTM,Dropout,Conv1D, MaxPooling1D, GlobalMaxPooling1D,Dropout,Bidirectional,Flatten,BatchNormalization\n",
    "# import wandb\n",
    "# from wandb.keras import WandbCallback\n",
    "print('package load complete')"
   ]
  },
  {
   "cell_type": "code",
   "execution_count": 11,
   "id": "eb86f35e",
   "metadata": {},
   "outputs": [],
   "source": []
  },
  {
   "cell_type": "code",
   "execution_count": null,
   "id": "1334a7f6",
   "metadata": {},
   "outputs": [],
   "source": []
  },
  {
   "cell_type": "code",
   "execution_count": null,
   "id": "1337b335",
   "metadata": {},
   "outputs": [],
   "source": []
  },
  {
   "cell_type": "markdown",
   "id": "400e1789",
   "metadata": {},
   "source": [
    "## utlis"
   ]
  },
  {
   "cell_type": "code",
   "execution_count": 7,
   "id": "277d879d",
   "metadata": {},
   "outputs": [],
   "source": [
    "def read_excel(file_folder,file_name):\n",
    "    input_data = pd.read_csv(os.path.join(file_folder, file_name), header=0, index_col=None)\n",
    "    return input_data\n",
    "\n",
    "def text_preprocessing(s):\n",
    "    \"\"\"\n",
    "    - Lowercase the sentence\n",
    "    - Change \"'t\" to \"not\"\n",
    "    - Remove \"@name\"\n",
    "    - Isolate and remove punctuations except \"?\"\n",
    "    - Remove other special characters\n",
    "    - Remove stop words except \"not\" and \"can\"\n",
    "    - Remove trailing whitespace\n",
    "    \"\"\"\n",
    "    s = s.lower()\n",
    "    # Change 't to 'not'\n",
    "    s = re.sub(r\"\\'t\", \" not\", s)\n",
    "    # Remove @name\n",
    "    s = re.sub(r'(@.*?)[\\s]', ' ', s)\n",
    "    # Isolate and remove punctuations except '?'\n",
    "    s = re.sub(r'([\\'\\\"\\.\\(\\)\\!\\?\\\\\\/\\,])', r' \\1 ', s)\n",
    "    s = re.sub(r'[^\\w\\s\\?]', ' ', s)\n",
    "    # Remove some special characters\n",
    "    s = re.sub(r'([\\;\\:\\|•«\\n])', ' ', s)\n",
    "    # Remove stopwords except 'not' and 'can'\n",
    "    s = \" \".join([word for word in s.split()\n",
    "                  if word not in stopwords.words('english')\n",
    "                  or word in ['not', 'can']])\n",
    "    # Remove trailing whitespace\n",
    "    s = re.sub(r'\\s+', ' ', s).strip()\n",
    "    \n",
    "    return s\n",
    "\n",
    "def start_index(x):\n",
    "    text = x[0]\n",
    "    selected = x[1]\n",
    "    text = text.split()\n",
    "    selected = selected.split()\n",
    "    try:\n",
    "        word = selected[0]\n",
    "        index = text.index(word)\n",
    "    except:\n",
    "        index = 0\n",
    "    return index\n",
    "\n",
    "def end_index(x):\n",
    "    text = x[0]\n",
    "    selected = x[1]\n",
    "    start_index = x[2]\n",
    "    text = text.split()\n",
    "    selected = selected.split()\n",
    "    word = selected[-1]\n",
    "    try:\n",
    "        index = text.index(word, start_index)\n",
    "    except:\n",
    "        try:\n",
    "            index = text.index(word)\n",
    "        except:\n",
    "            index = len(text) - 1\n",
    "    return index\n",
    "\n",
    "def create_label_class_dictionary(data, column):\n",
    "    # create_label_class_dictionary(df, \"label\")\n",
    "    '''dictionary for text class with interger number\n",
    "    data: data file\n",
    "    column: column name in the data file: must be string format\n",
    "    '''\n",
    "    \n",
    "    dtf = data\n",
    "    dtf[column+\"_id\"] = dtf[column].factorize(sort=True)[0]\n",
    "    dic_class_mapping = dict( dtf[[column+\"_id\",column]].drop_duplicates().sort_values(column+\"_id\").values )\n",
    "    return dtf, dic_class_mapping\n",
    "\n",
    "\n",
    "def class_report(y,ypred,keys):\n",
    "    labels = list(dic_y_mapping.values())\n",
    "\n",
    "    labels_num = list(dic_y_mapping.keys())\n",
    "\n",
    "    conf_mat = confusion_matrix(y, ypred)\n",
    "    fig, ax = plt.subplots(figsize=(10,8))\n",
    "    sns.heatmap(conf_mat, annot=True, fmt='d',xticklabels=labels, yticklabels=labels_num,cmap=\"Blues\")\n",
    "    plt.ylabel('actual results',fontsize=12);\n",
    "    plt.xlabel('predict result',fontsize=12)\n",
    "    print('*'*100)\n",
    "    print('accuracy %s' % accuracy_score(y, ypred))\n",
    "    print('weighted precision score:%s' % precision_score(y, ypred,average='weighted'))\n",
    "    print('weighted recall score:%s' % recall_score(y, ypred,average='weighted'))\n",
    "    print('weighted f1 score:%s' % f1_score(y, ypred,average='weighted'))\n",
    "    print('*'*90)\n",
    "    print(classification_report(y, ypred,target_names=[str(w) for w in labels]))\n",
    "\n",
    "    \n",
    "    \n"
   ]
  },
  {
   "cell_type": "code",
   "execution_count": null,
   "id": "29cf069f",
   "metadata": {},
   "outputs": [],
   "source": []
  },
  {
   "cell_type": "code",
   "execution_count": null,
   "id": "f6c176d1",
   "metadata": {},
   "outputs": [],
   "source": []
  },
  {
   "cell_type": "markdown",
   "id": "1d3059b1",
   "metadata": {},
   "source": [
    "## read data"
   ]
  },
  {
   "cell_type": "code",
   "execution_count": 3,
   "id": "ba257cb5",
   "metadata": {},
   "outputs": [
    {
     "name": "stdout",
     "output_type": "stream",
     "text": [
      "preprocessing:  data/csv\n"
     ]
    },
    {
     "data": {
      "text/html": [
       "<div>\n",
       "<style scoped>\n",
       "    .dataframe tbody tr th:only-of-type {\n",
       "        vertical-align: middle;\n",
       "    }\n",
       "\n",
       "    .dataframe tbody tr th {\n",
       "        vertical-align: top;\n",
       "    }\n",
       "\n",
       "    .dataframe thead th {\n",
       "        text-align: right;\n",
       "    }\n",
       "</style>\n",
       "<table border=\"1\" class=\"dataframe\">\n",
       "  <thead>\n",
       "    <tr style=\"text-align: right;\">\n",
       "      <th></th>\n",
       "      <th>RID</th>\n",
       "      <th>SID</th>\n",
       "      <th>text</th>\n",
       "      <th>polarity</th>\n",
       "      <th>category</th>\n",
       "      <th>target</th>\n",
       "    </tr>\n",
       "  </thead>\n",
       "  <tbody>\n",
       "    <tr>\n",
       "      <th>0</th>\n",
       "      <td>1004293</td>\n",
       "      <td>1004293:0</td>\n",
       "      <td>Judging from previous posts this used to be a ...</td>\n",
       "      <td>negative</td>\n",
       "      <td>RESTAURANT#GENERAL</td>\n",
       "      <td>place</td>\n",
       "    </tr>\n",
       "    <tr>\n",
       "      <th>1</th>\n",
       "      <td>1004293</td>\n",
       "      <td>1004293:1</td>\n",
       "      <td>We, there were four of us, arrived at noon - t...</td>\n",
       "      <td>negative</td>\n",
       "      <td>SERVICE#GENERAL</td>\n",
       "      <td>staff</td>\n",
       "    </tr>\n",
       "  </tbody>\n",
       "</table>\n",
       "</div>"
      ],
      "text/plain": [
       "       RID        SID                                               text  \\\n",
       "0  1004293  1004293:0  Judging from previous posts this used to be a ...   \n",
       "1  1004293  1004293:1  We, there were four of us, arrived at noon - t...   \n",
       "\n",
       "   polarity            category target  \n",
       "0  negative  RESTAURANT#GENERAL  place  \n",
       "1  negative     SERVICE#GENERAL  staff  "
      ]
     },
     "execution_count": 3,
     "metadata": {},
     "output_type": "execute_result"
    }
   ],
   "source": [
    "file_folder = 'data/csv'\n",
    "file_name = 'SemEval16T6_Restaurants_subtask1.csv'\n",
    "print('preprocessing: ', file_folder)\n",
    "df = read_excel(file_folder,file_name)\n",
    "df.head(2)"
   ]
  },
  {
   "cell_type": "code",
   "execution_count": null,
   "id": "458b2d7f",
   "metadata": {},
   "outputs": [],
   "source": []
  },
  {
   "cell_type": "code",
   "execution_count": null,
   "id": "0caedb78",
   "metadata": {},
   "outputs": [],
   "source": []
  },
  {
   "cell_type": "code",
   "execution_count": null,
   "id": "c5adc217",
   "metadata": {},
   "outputs": [],
   "source": []
  },
  {
   "cell_type": "markdown",
   "id": "ee5927ac",
   "metadata": {},
   "source": [
    "# data processing"
   ]
  },
  {
   "cell_type": "code",
   "execution_count": 4,
   "id": "7caa8e99",
   "metadata": {},
   "outputs": [],
   "source": [
    "df['text'] = df['text'].astype(str)\n",
    "df['target'] = df['target'].astype(str)\n",
    "df = df.rename({'target':'selected_text','text':'text'},axis=1)\n",
    "# df['clean_text'] = df['text'].apply(remove_stopword)\n",
    "df['clean_text'] = df['text'].apply(lambda x:text_preprocessing(x))\n",
    "# df['clean_text_selected'] = df['target'].apply(remove_stopword)\n",
    "df['clean_text_selected'] = df['selected_text'].apply(lambda x:text_preprocessing(x))\n",
    "\n",
    "df.drop(df[df['clean_text_selected'].apply(\n",
    "    lambda x: len(x)) == 0].index, inplace=True)\n",
    "df['start_index'] = df[['clean_text', 'clean_text_selected']].apply(\n",
    "    lambda x: start_index(x), axis=1)\n",
    "df['end_index'] = df[['clean_text', 'clean_text_selected', 'start_index']].apply(\n",
    "    lambda x: end_index(x), axis=1)"
   ]
  },
  {
   "cell_type": "code",
   "execution_count": 5,
   "id": "859b1a5a",
   "metadata": {},
   "outputs": [
    {
     "ename": "NameError",
     "evalue": "name 'text_split' is not defined",
     "output_type": "error",
     "traceback": [
      "\u001b[0;31m---------------------------------------------------------------------------\u001b[0m",
      "\u001b[0;31mNameError\u001b[0m                                 Traceback (most recent call last)",
      "\u001b[0;32m<ipython-input-5-5a125f8c9899>\u001b[0m in \u001b[0;36m<module>\u001b[0;34m\u001b[0m\n\u001b[0;32m----> 1\u001b[0;31m \u001b[0my\u001b[0m \u001b[0;34m=\u001b[0m \u001b[0mnp\u001b[0m\u001b[0;34m.\u001b[0m\u001b[0mzeros\u001b[0m\u001b[0;34m(\u001b[0m\u001b[0;34m(\u001b[0m\u001b[0mdf\u001b[0m\u001b[0;34m.\u001b[0m\u001b[0mshape\u001b[0m\u001b[0;34m[\u001b[0m\u001b[0;36m0\u001b[0m\u001b[0;34m]\u001b[0m\u001b[0;34m,\u001b[0m \u001b[0mmax\u001b[0m\u001b[0;34m(\u001b[0m\u001b[0mtext_split\u001b[0m\u001b[0;34m)\u001b[0m\u001b[0;34m)\u001b[0m\u001b[0;34m)\u001b[0m\u001b[0;34m\u001b[0m\u001b[0;34m\u001b[0m\u001b[0m\n\u001b[0m\u001b[1;32m      2\u001b[0m \u001b[0;32mfor\u001b[0m \u001b[0mi\u001b[0m \u001b[0;32min\u001b[0m \u001b[0mrange\u001b[0m\u001b[0;34m(\u001b[0m\u001b[0mdf\u001b[0m\u001b[0;34m.\u001b[0m\u001b[0mshape\u001b[0m\u001b[0;34m[\u001b[0m\u001b[0;36m0\u001b[0m\u001b[0;34m]\u001b[0m\u001b[0;34m)\u001b[0m\u001b[0;34m:\u001b[0m\u001b[0;34m\u001b[0m\u001b[0;34m\u001b[0m\u001b[0m\n\u001b[1;32m      3\u001b[0m     \u001b[0mstart\u001b[0m \u001b[0;34m=\u001b[0m \u001b[0mdf\u001b[0m\u001b[0;34m[\u001b[0m\u001b[0;34m'start_index'\u001b[0m\u001b[0;34m]\u001b[0m\u001b[0;34m[\u001b[0m\u001b[0mi\u001b[0m\u001b[0;34m]\u001b[0m\u001b[0;34m\u001b[0m\u001b[0;34m\u001b[0m\u001b[0m\n\u001b[1;32m      4\u001b[0m     \u001b[0mend\u001b[0m \u001b[0;34m=\u001b[0m \u001b[0mdf\u001b[0m\u001b[0;34m[\u001b[0m\u001b[0;34m'end_index'\u001b[0m\u001b[0;34m]\u001b[0m\u001b[0;34m[\u001b[0m\u001b[0mi\u001b[0m\u001b[0;34m]\u001b[0m\u001b[0;34m\u001b[0m\u001b[0;34m\u001b[0m\u001b[0m\n\u001b[1;32m      5\u001b[0m     \u001b[0my\u001b[0m\u001b[0;34m[\u001b[0m\u001b[0mi\u001b[0m\u001b[0;34m]\u001b[0m\u001b[0;34m[\u001b[0m\u001b[0mstart\u001b[0m\u001b[0;34m:\u001b[0m\u001b[0mend\u001b[0m\u001b[0;34m+\u001b[0m\u001b[0;36m1\u001b[0m\u001b[0;34m]\u001b[0m \u001b[0;34m=\u001b[0m \u001b[0;36m1\u001b[0m\u001b[0;34m\u001b[0m\u001b[0;34m\u001b[0m\u001b[0m\n",
      "\u001b[0;31mNameError\u001b[0m: name 'text_split' is not defined"
     ]
    }
   ],
   "source": [
    "y = np.zeros((df.shape[0], max(text_split)))\n",
    "for i in range(df.shape[0]):\n",
    "    start = df['start_index'][i]\n",
    "    end = df['end_index'][i]\n",
    "    y[i][start:end+1] = 1"
   ]
  },
  {
   "cell_type": "code",
   "execution_count": 6,
   "id": "5df242ce",
   "metadata": {},
   "outputs": [],
   "source": [
    "df, dic_y_mapping = create_label_class_dictionary(df, \"category\")"
   ]
  },
  {
   "cell_type": "code",
   "execution_count": 6,
   "id": "1ce4601e",
   "metadata": {},
   "outputs": [
    {
     "data": {
      "text/html": [
       "<div>\n",
       "<style scoped>\n",
       "    .dataframe tbody tr th:only-of-type {\n",
       "        vertical-align: middle;\n",
       "    }\n",
       "\n",
       "    .dataframe tbody tr th {\n",
       "        vertical-align: top;\n",
       "    }\n",
       "\n",
       "    .dataframe thead th {\n",
       "        text-align: right;\n",
       "    }\n",
       "</style>\n",
       "<table border=\"1\" class=\"dataframe\">\n",
       "  <thead>\n",
       "    <tr style=\"text-align: right;\">\n",
       "      <th></th>\n",
       "      <th>RID</th>\n",
       "      <th>SID</th>\n",
       "      <th>text</th>\n",
       "      <th>polarity</th>\n",
       "      <th>category</th>\n",
       "      <th>selected_text</th>\n",
       "      <th>clean_text</th>\n",
       "      <th>clean_text_selected</th>\n",
       "      <th>start_index</th>\n",
       "      <th>end_index</th>\n",
       "      <th>category_id</th>\n",
       "    </tr>\n",
       "  </thead>\n",
       "  <tbody>\n",
       "    <tr>\n",
       "      <th>739</th>\n",
       "      <td>1572033</td>\n",
       "      <td>1572033:0</td>\n",
       "      <td>Don't dine at Tamarind for the vegetarian dish...</td>\n",
       "      <td>negative</td>\n",
       "      <td>FOOD#QUALITY</td>\n",
       "      <td>vegetarian dishes</td>\n",
       "      <td>not dine tamarind vegetarian dishes simply not...</td>\n",
       "      <td>vegetarian dishes</td>\n",
       "      <td>3</td>\n",
       "      <td>4</td>\n",
       "      <td>5</td>\n",
       "    </tr>\n",
       "  </tbody>\n",
       "</table>\n",
       "</div>"
      ],
      "text/plain": [
       "         RID        SID                                               text  \\\n",
       "739  1572033  1572033:0  Don't dine at Tamarind for the vegetarian dish...   \n",
       "\n",
       "     polarity      category      selected_text  \\\n",
       "739  negative  FOOD#QUALITY  vegetarian dishes   \n",
       "\n",
       "                                            clean_text clean_text_selected  \\\n",
       "739  not dine tamarind vegetarian dishes simply not...   vegetarian dishes   \n",
       "\n",
       "     start_index  end_index  category_id  \n",
       "739            3          4            5  "
      ]
     },
     "execution_count": 6,
     "metadata": {},
     "output_type": "execute_result"
    }
   ],
   "source": [
    "df.sample(1)"
   ]
  },
  {
   "cell_type": "code",
   "execution_count": null,
   "id": "f673c2ee",
   "metadata": {},
   "outputs": [],
   "source": []
  },
  {
   "cell_type": "code",
   "execution_count": null,
   "id": "9f1b9abe",
   "metadata": {},
   "outputs": [],
   "source": []
  },
  {
   "cell_type": "code",
   "execution_count": null,
   "id": "6869d699",
   "metadata": {},
   "outputs": [],
   "source": []
  },
  {
   "cell_type": "markdown",
   "id": "766a3a86",
   "metadata": {},
   "source": [
    "## split data"
   ]
  },
  {
   "cell_type": "code",
   "execution_count": null,
   "id": "c6d5bc5e",
   "metadata": {},
   "outputs": [],
   "source": [
    "# train, test = train_test_split(df, test_size=0.15)"
   ]
  },
  {
   "cell_type": "code",
   "execution_count": null,
   "id": "60f769d6",
   "metadata": {},
   "outputs": [],
   "source": [
    "# x_train, x_test, y_train, y_test = train_test_split(df['clean_text'],df['category_id'], stratify=df['category_id'])\n"
   ]
  },
  {
   "cell_type": "code",
   "execution_count": null,
   "id": "d7cd4780",
   "metadata": {},
   "outputs": [],
   "source": []
  },
  {
   "cell_type": "markdown",
   "id": "a6bafa90",
   "metadata": {},
   "source": [
    "## model compile"
   ]
  },
  {
   "cell_type": "code",
   "execution_count": null,
   "id": "cabd1b46",
   "metadata": {},
   "outputs": [],
   "source": [
    "# optimizer = tf.keras.optimizers.Adam(learning_rate=1e-3)\n",
    "# \t# we do not have one-hot vectors, we can use sparce categorical cross entropy and accuracy\n",
    "# loss = tf.keras.losses.SparseCategoricalCrossentropy(from_logits=True)\n",
    "# metric = tf.keras.metrics.SparseCategoricalAccuracy('accuracy')\n",
    "# model.compile(optimizer=optimizer, loss=loss, metrics=[metric])\n",
    "# model.summary()"
   ]
  },
  {
   "cell_type": "code",
   "execution_count": null,
   "id": "816f5be3",
   "metadata": {},
   "outputs": [],
   "source": []
  },
  {
   "cell_type": "code",
   "execution_count": null,
   "id": "d1772fc8",
   "metadata": {},
   "outputs": [],
   "source": []
  },
  {
   "cell_type": "code",
   "execution_count": null,
   "id": "557284ed",
   "metadata": {},
   "outputs": [],
   "source": []
  },
  {
   "cell_type": "markdown",
   "id": "2fd5e75c",
   "metadata": {},
   "source": [
    "# baseline "
   ]
  },
  {
   "cell_type": "code",
   "execution_count": 16,
   "id": "a6faa717",
   "metadata": {},
   "outputs": [],
   "source": [
    "X = df.clean_text.values\n",
    "y = df.category_id.values\n",
    "\n",
    "X_train, X_val, y_train, y_val =\\\n",
    "    train_test_split(X, y, test_size=0.2, random_state=2020)"
   ]
  },
  {
   "cell_type": "code",
   "execution_count": 36,
   "id": "40ea3874",
   "metadata": {},
   "outputs": [],
   "source": [
    "X_train_preprocessed = np.array([text_preprocessing(text) for text in X_train])\n",
    "X_val_preprocessed = np.array([text_preprocessing(text) for text in X_val])\n",
    "\n",
    "# Calculate TF-IDF\n",
    "tf_idf = TfidfVectorizer(smooth_idf=False)\n",
    "X_train_tfidf = tf_idf.fit_transform(X_train_preprocessed)\n",
    "X_val_tfidf = tf_idf.transform(X_val_preprocessed)"
   ]
  },
  {
   "cell_type": "code",
   "execution_count": 37,
   "id": "430485fa",
   "metadata": {},
   "outputs": [],
   "source": [
    "# Compute predicted probabilities\n",
    "clf = RandomForestClassifier()\n",
    "clf.fit(X_train_tfidf, y_train)\n",
    "probs = clf.predict(X_val_tfidf)\n",
    "# yhat = probs.argmax(axis = 1) # predict label\n",
    "\n",
    "# Evaluate the classifier\n",
    "# evaluate_roc(probs, y_val)"
   ]
  },
  {
   "cell_type": "code",
   "execution_count": 51,
   "id": "225409df",
   "metadata": {},
   "outputs": [
    {
     "name": "stdout",
     "output_type": "stream",
     "text": [
      "****************************************************************************************************\n",
      "accuracy 0.4243027888446215\n",
      "weighted precision score:0.3915271759294827\n",
      "weighted recall score:0.4243027888446215\n",
      "weighted f1 score:0.39761612999999285\n",
      "******************************************************************************************\n",
      "                          precision    recall  f1-score   support\n",
      "\n",
      "        AMBIENCE#GENERAL       0.45      0.24      0.31        63\n",
      "           DRINKS#PRICES       0.00      0.00      0.00         5\n",
      "          DRINKS#QUALITY       0.17      0.08      0.11        12\n",
      "    DRINKS#STYLE_OPTIONS       0.00      0.00      0.00         7\n",
      "             FOOD#PRICES       0.27      0.12      0.17        24\n",
      "            FOOD#QUALITY       0.47      0.59      0.52       156\n",
      "      FOOD#STYLE_OPTIONS       0.06      0.04      0.05        23\n",
      "        LOCATION#GENERAL       0.00      0.00      0.00         8\n",
      "      RESTAURANT#GENERAL       0.48      0.59      0.53        78\n",
      "RESTAURANT#MISCELLANEOUS       0.12      0.06      0.08        18\n",
      "       RESTAURANT#PRICES       0.11      0.09      0.10        11\n",
      "         SERVICE#GENERAL       0.45      0.55      0.50        97\n",
      "\n",
      "                accuracy                           0.42       502\n",
      "               macro avg       0.22      0.20      0.20       502\n",
      "            weighted avg       0.39      0.42      0.40       502\n",
      "\n"
     ]
    },
    {
     "data": {
      "image/png": "[encoded data removed]",
      "text/plain": [
       "<Figure size 720x576 with 2 Axes>"
      ]
     },
     "metadata": {
      "needs_background": "light"
     },
     "output_type": "display_data"
    }
   ],
   "source": [
    "class_report(y_val,probs,keys=dic_y_mapping)"
   ]
  },
  {
   "cell_type": "code",
   "execution_count": null,
   "id": "43d4a434",
   "metadata": {},
   "outputs": [],
   "source": []
  },
  {
   "cell_type": "code",
   "execution_count": null,
   "id": "de4ef251",
   "metadata": {},
   "outputs": [],
   "source": []
  },
  {
   "cell_type": "code",
   "execution_count": null,
   "id": "0e0f27bd",
   "metadata": {},
   "outputs": [],
   "source": []
  },
  {
   "cell_type": "code",
   "execution_count": null,
   "id": "4a90e9f6",
   "metadata": {},
   "outputs": [],
   "source": []
  },
  {
   "cell_type": "markdown",
   "id": "844d0fa2",
   "metadata": {},
   "source": [
    "# Lstm"
   ]
  },
  {
   "cell_type": "code",
   "execution_count": 8,
   "id": "4e2168ca",
   "metadata": {},
   "outputs": [],
   "source": [
    "train, test = train_test_split(df, test_size=0.2)\n"
   ]
  },
  {
   "cell_type": "code",
   "execution_count": 15,
   "id": "a4080c37",
   "metadata": {},
   "outputs": [
    {
     "name": "stdout",
     "output_type": "stream",
     "text": [
      "(2005, 100)\n",
      "(502, 100)\n"
     ]
    }
   ],
   "source": [
    "from keras.preprocessing import text, sequence\n",
    "\n",
    "train.text=train.selected_text.astype(str)\n",
    "test.text=test.selected_text.astype(str)\n",
    "\n",
    "\n",
    "\n",
    "tk=text.Tokenizer(num_words=20000)\n",
    "maxlen = 100\n",
    "\n",
    "\n",
    "\n",
    "tk.fit_on_texts(list(train.text.values)+list(test.text.values))\n",
    "x_train =tk.texts_to_sequences(train.text.values)\n",
    "x_test=tk.texts_to_sequences(test.text.values)\n",
    "\n",
    "\n",
    "\n",
    "x_train=sequence.pad_sequences(x_train, maxlen=maxlen)\n",
    "print(x_train.shape)\n",
    "\n",
    "x_test=sequence.pad_sequences(x_test, maxlen=maxlen)\n",
    "print(x_test.shape)"
   ]
  },
  {
   "cell_type": "code",
   "execution_count": 16,
   "id": "aeec0ba4",
   "metadata": {},
   "outputs": [],
   "source": [
    "y_train = train['category_id'].values\n",
    "y_test = test['category_id'].values"
   ]
  },
  {
   "cell_type": "code",
   "execution_count": 57,
   "id": "73b019fd",
   "metadata": {},
   "outputs": [
    {
     "name": "stderr",
     "output_type": "stream",
     "text": [
      "2196018it [02:51, 12775.96it/s]"
     ]
    },
    {
     "name": "stdout",
     "output_type": "stream",
     "text": [
      "Found 2196017 word vectors.\n"
     ]
    },
    {
     "name": "stderr",
     "output_type": "stream",
     "text": [
      "\n"
     ]
    }
   ],
   "source": [
    "embeddings_index = {}\n",
    "with open('data/glove.840B.300d.txt') as f:\n",
    "    for line in tqdm(f):\n",
    "        values = line.split(' ')\n",
    "        word = values[0]\n",
    "        coefs = np.asarray([float(val) for val in values[1:]])\n",
    "        embeddings_index[word] = coefs\n",
    "print('Found %s word vectors.' % len(embeddings_index))"
   ]
  },
  {
   "cell_type": "code",
   "execution_count": 59,
   "id": "e8121465",
   "metadata": {},
   "outputs": [],
   "source": [
    "embedding_matrix=np.zeros((len(word_index)+1, 300))\n",
    "for word, i in tqdm(word_index.items()):\n",
    "    embedding_vector=embeddings_index.get(word)\n",
    "    if embedding_vector is not None:\n",
    "        embedding_matrix[i]=embedding_vector"
   ]
  },
  {
   "cell_type": "code",
   "execution_count": 60,
   "id": "fea550e7",
   "metadata": {},
   "outputs": [
    {
     "name": "stdout",
     "output_type": "stream",
     "text": [
      "Model: \"sequential\"\n",
      "_________________________________________________________________\n",
      " Layer (type)                Output Shape              Param #   \n",
      "=================================================================\n",
      " embedding (Embedding)       (None, None, 256)         1280000   \n",
      "                                                                 \n",
      " bidirectional (Bidirectiona  (None, 512)              1050624   \n",
      " l)                                                              \n",
      "                                                                 \n",
      " dropout (Dropout)           (None, 512)               0         \n",
      "                                                                 \n",
      " dense (Dense)               (None, 128)               65664     \n",
      "                                                                 \n",
      " dropout_1 (Dropout)         (None, 128)               0         \n",
      "                                                                 \n",
      " batch_normalization (BatchN  (None, 128)              512       \n",
      " ormalization)                                                   \n",
      "                                                                 \n",
      " dense_1 (Dense)             (None, 12)                1548      \n",
      "                                                                 \n",
      "=================================================================\n",
      "Total params: 2,398,348\n",
      "Trainable params: 2,398,092\n",
      "Non-trainable params: 256\n",
      "_________________________________________________________________\n"
     ]
    }
   ],
   "source": [
    "vocab_size = 5000\n",
    "embedding_dim = 256\n",
    "\n",
    "model = keras.Sequential()\n",
    "model.add(keras.layers.Embedding(vocab_size, embedding_dim))\n",
    "model.add(keras.layers.Bidirectional(tf.keras.layers.LSTM(embedding_dim)))\n",
    "model.add(keras.layers.Dropout(0.15))\n",
    "model.add(keras.layers.Dense(128, activation='relu',kernel_regularizer=regularizers.l2(0.0001)))\n",
    "model.add(keras.layers.Dropout(0.3))\n",
    "model.add(keras.layers.BatchNormalization())\n",
    "\n",
    "model.add(keras.layers.Dense(12, activation='softmax'))\n",
    "\n",
    "\n",
    "# lstm = Bidirectional(LSTM(128, return_sequences=True,\n",
    "#                           dropout=0.15, name='LSTM'))(con)  # lstm\n",
    "\n",
    "# # dense layers with drop outs and batch normalization\n",
    "# m = Dense(128, activation=\"relu\",\n",
    "#           kernel_regularizer=regularizers.l2(0.0001))(lstm)\n",
    "# m = Dropout(0.3)(m)\n",
    "# # m = BatchNormalization()(m)\n",
    "# output = Dense(1, activation='sigmoid', name='output')(m)\n",
    "\n",
    "# model.summary()\n",
    "\n",
    "optimizer = tf.keras.optimizers.Adam(learning_rate=1e-3)\n",
    "\t# we do not have one-hot vectors, we can use sparce categorical cross entropy and accuracy\n",
    "loss = tf.keras.losses.SparseCategoricalCrossentropy(from_logits=True)\n",
    "metric = tf.keras.metrics.SparseCategoricalAccuracy('accuracy')\n",
    "model.compile(optimizer=optimizer, loss=loss, metrics=[metric])\n",
    "model.summary()"
   ]
  },
  {
   "cell_type": "code",
   "execution_count": 61,
   "id": "0fbb09ef",
   "metadata": {},
   "outputs": [
    {
     "name": "stdout",
     "output_type": "stream",
     "text": [
      "Epoch 1/10\n",
      "32/32 [==============================] - 12s 245ms/step - loss: 2.2094 - accuracy: 0.3212 - val_loss: 2.2765 - val_accuracy: 0.5120\n",
      "Epoch 2/10\n",
      "32/32 [==============================] - 7s 215ms/step - loss: 1.4687 - accuracy: 0.5940 - val_loss: 2.0889 - val_accuracy: 0.4462\n",
      "Epoch 3/10\n",
      "32/32 [==============================] - 7s 218ms/step - loss: 1.1385 - accuracy: 0.6559 - val_loss: 1.9571 - val_accuracy: 0.4980\n",
      "Epoch 4/10\n",
      "32/32 [==============================] - 7s 215ms/step - loss: 0.9957 - accuracy: 0.6853 - val_loss: 1.8951 - val_accuracy: 0.5040\n",
      "Epoch 5/10\n",
      "32/32 [==============================] - 7s 216ms/step - loss: 0.9331 - accuracy: 0.6978 - val_loss: 1.8078 - val_accuracy: 0.5159\n",
      "Epoch 6/10\n",
      "32/32 [==============================] - 7s 215ms/step - loss: 0.8966 - accuracy: 0.7022 - val_loss: 1.7475 - val_accuracy: 0.5199\n",
      "Epoch 7/10\n",
      "32/32 [==============================] - 7s 216ms/step - loss: 0.8632 - accuracy: 0.7107 - val_loss: 1.6167 - val_accuracy: 0.5677\n",
      "Epoch 8/10\n",
      "32/32 [==============================] - 7s 215ms/step - loss: 0.8536 - accuracy: 0.7107 - val_loss: 1.5659 - val_accuracy: 0.5538\n",
      "Epoch 9/10\n",
      "32/32 [==============================] - 7s 217ms/step - loss: 0.8343 - accuracy: 0.7172 - val_loss: 1.4705 - val_accuracy: 0.5578\n",
      "Epoch 10/10\n",
      "32/32 [==============================] - 7s 224ms/step - loss: 0.8313 - accuracy: 0.7097 - val_loss: 1.4058 - val_accuracy: 0.6434\n"
     ]
    }
   ],
   "source": [
    "history = model.fit(x_train,\n",
    "                    y_train,\n",
    "#                     callbacks=[checkpoint],\n",
    "                    epochs=10,\n",
    "                    batch_size=64,\n",
    "                    validation_data=(x_test, y_test))"
   ]
  },
  {
   "cell_type": "code",
   "execution_count": 62,
   "id": "12ad1c00",
   "metadata": {},
   "outputs": [
    {
     "name": "stdout",
     "output_type": "stream",
     "text": [
      "****************************************************************************************************\n",
      "accuracy 0.6434262948207171\n",
      "weighted precision score:0.6285514478216874\n",
      "weighted recall score:0.6434262948207171\n",
      "weighted f1 score:0.601137807870027\n",
      "******************************************************************************************\n",
      "                          precision    recall  f1-score   support\n",
      "\n",
      "        AMBIENCE#GENERAL       0.94      0.50      0.65        58\n",
      "           DRINKS#PRICES       0.00      0.00      0.00         3\n",
      "          DRINKS#QUALITY       0.78      0.54      0.64        13\n",
      "    DRINKS#STYLE_OPTIONS       0.75      0.86      0.80         7\n",
      "             FOOD#PRICES       0.00      0.00      0.00        28\n",
      "            FOOD#QUALITY       0.68      0.88      0.77       153\n",
      "      FOOD#STYLE_OPTIONS       0.46      0.20      0.28        30\n",
      "        LOCATION#GENERAL       1.00      0.25      0.40         4\n",
      "      RESTAURANT#GENERAL       0.46      0.89      0.61        93\n",
      "RESTAURANT#MISCELLANEOUS       0.00      0.00      0.00        11\n",
      "       RESTAURANT#PRICES       0.00      0.00      0.00        16\n",
      "         SERVICE#GENERAL       0.95      0.65      0.77        86\n",
      "\n",
      "                accuracy                           0.64       502\n",
      "               macro avg       0.50      0.40      0.41       502\n",
      "            weighted avg       0.63      0.64      0.60       502\n",
      "\n"
     ]
    },
    {
     "data": {
      "image/png": "[encoded data removed]",
      "text/plain": [
       "<Figure size 720x576 with 2 Axes>"
      ]
     },
     "metadata": {
      "needs_background": "light"
     },
     "output_type": "display_data"
    }
   ],
   "source": [
    "y_pred = model.predict(x_test) \n",
    "yhat = y_pred.argmax(axis = 1) # predict label\n",
    "class_report(y=y_test,ypred=yhat,keys=dic_y_mapping)"
   ]
  },
  {
   "cell_type": "code",
   "execution_count": null,
   "id": "c17e6ee7",
   "metadata": {},
   "outputs": [],
   "source": []
  },
  {
   "cell_type": "code",
   "execution_count": null,
   "id": "8f8a98a1",
   "metadata": {},
   "outputs": [],
   "source": []
  },
  {
   "cell_type": "code",
   "execution_count": null,
   "id": "44db8c20",
   "metadata": {},
   "outputs": [],
   "source": []
  },
  {
   "cell_type": "code",
   "execution_count": null,
   "id": "1e47a374",
   "metadata": {},
   "outputs": [],
   "source": []
  },
  {
   "cell_type": "code",
   "execution_count": null,
   "id": "3c81d1e3",
   "metadata": {},
   "outputs": [],
   "source": []
  },
  {
   "cell_type": "markdown",
   "id": "adecdf4c",
   "metadata": {},
   "source": [
    "## attention layer"
   ]
  },
  {
   "cell_type": "code",
   "execution_count": null,
   "id": "73859d4c",
   "metadata": {},
   "outputs": [],
   "source": [
    "# def model_lstm_atten(embedding_matrix):\n",
    "#     inp = Input(shape=(maxlen,))\n",
    "#     x = Embedding(max_features, embed_size, weights=[embedding_matrix], trainable=False)(inp)\n",
    "#     x = Bidirectional(CuDNNLSTM(128, return_sequences=True))(x)\n",
    "#     x = Bidirectional(CuDNNLSTM(64, return_sequences=True))(x)\n",
    "#     x = AttentionWithContext()(x)\n",
    "#     x = Dense(64, activation=\"relu\")(x)\n",
    "#     x = Dense(1, activation=\"sigmoid\")(x)\n",
    "#     model = Model(inputs=inp, outputs=x)\n",
    "#     model.compile(loss='binary_crossentropy', optimizer='adam', metrics=['accuracy'])\n",
    "#     return model"
   ]
  },
  {
   "cell_type": "code",
   "execution_count": null,
   "id": "c3046d9d",
   "metadata": {},
   "outputs": [],
   "source": []
  },
  {
   "cell_type": "code",
   "execution_count": null,
   "id": "a01a1c88",
   "metadata": {},
   "outputs": [],
   "source": []
  },
  {
   "cell_type": "code",
   "execution_count": null,
   "id": "f8360819",
   "metadata": {},
   "outputs": [],
   "source": []
  },
  {
   "cell_type": "code",
   "execution_count": null,
   "id": "555fc5df",
   "metadata": {},
   "outputs": [],
   "source": []
  },
  {
   "cell_type": "code",
   "execution_count": null,
   "id": "ca81076e",
   "metadata": {},
   "outputs": [],
   "source": []
  },
  {
   "cell_type": "code",
   "execution_count": null,
   "id": "8424aeea",
   "metadata": {},
   "outputs": [],
   "source": []
  },
  {
   "cell_type": "code",
   "execution_count": null,
   "id": "775a083a",
   "metadata": {},
   "outputs": [],
   "source": []
  },
  {
   "cell_type": "code",
   "execution_count": null,
   "id": "cabcb7a7",
   "metadata": {},
   "outputs": [],
   "source": []
  },
  {
   "cell_type": "markdown",
   "id": "05e81588",
   "metadata": {},
   "source": [
    "## simple model structure"
   ]
  },
  {
   "cell_type": "code",
   "execution_count": 66,
   "id": "158506b8",
   "metadata": {},
   "outputs": [],
   "source": [
    "def CNN_V0(bert_output):\n",
    "    net = Conv1D(128, 7, activation='relu',padding='same')(bert_output)\n",
    "    net = MaxPooling1D()(net)\n",
    "    net = Conv1D(256, 5, activation='relu',padding='same')(net)\n",
    "    net = MaxPooling1D()(net)\n",
    "    net = Conv1D(512, 3, activation='relu',padding='same')(net)\n",
    "    net = MaxPooling1D()(net)\n",
    "    net = Flatten()(net)\n",
    "    net = Dense(128, activation='relu')(net)\n",
    "    net = Dropout(0.5)(net)\n",
    "    outputs = Dense(12, activation='softmax', name='classifier')(net) \n",
    "    return outputs"
   ]
  },
  {
   "cell_type": "code",
   "execution_count": 67,
   "id": "dd8ffc8d",
   "metadata": {},
   "outputs": [],
   "source": [
    "def BiLSTM_V0(bert_output):\n",
    "    net = Bidirectional(LSTM(units=128, return_sequences=True,))(bert_output)\n",
    "    net = GlobalAveragePooling1D()(net)\n",
    "    net = Dense(64, activation='relu')(net)\n",
    "    net = Dropout(rate=0.1)(net)\n",
    "    outputs = Dense(12, activation='softmax', name='classifier')(net) \n",
    "    return outputs"
   ]
  },
  {
   "cell_type": "code",
   "execution_count": 68,
   "id": "295c0a97",
   "metadata": {},
   "outputs": [],
   "source": [
    "def CNN_LSTM_V0(bert_output):\n",
    "    net = Dropout(0.3)(bert_output)\n",
    "    net = Conv1D(200, 5, activation='relu')(net)\n",
    "    net = MaxPooling1D(pool_size=2)(net)\n",
    "    net = LSTM(100)(net)\n",
    "    net = Dropout(0.3)(net)\n",
    "    net = Dense(32,activation='relu')(net)\n",
    "    outputs = Dense(12, activation='softmax', name='classifier')(net)\n",
    "    return outputs"
   ]
  },
  {
   "cell_type": "code",
   "execution_count": 69,
   "id": "5c7f73f2",
   "metadata": {},
   "outputs": [],
   "source": [
    "def CNN_LSTM_V1(bert_output):\n",
    "\n",
    "    # channel 1\n",
    "    net = Conv1D(filters=128, kernel_size=3*32, activation='relu')(bert_output)\n",
    "    net = MaxPooling1D(pool_size=2)(net)\n",
    "    net = Dropout(0.5)(net)\n",
    "    net = BatchNormalization()(net)\n",
    "    a = LSTM(128)(net)\n",
    "\n",
    "    # channel 2\n",
    "    net = Conv1D(filters=128, kernel_size=5*32, activation='relu')(bert_output)\n",
    "    net = MaxPooling1D(pool_size=2)(net)\n",
    "    net = Dropout(0.5)(net)\n",
    "    net = BatchNormalization()(net)\n",
    "    b = LSTM(128)(net)\n",
    "\n",
    "    # channel 3\n",
    "    net = Conv1D(filters=128, kernel_size=7*32, activation='relu')(bert_output)\n",
    "    net = MaxPooling1D(pool_size=2)(net)\n",
    "    net = Dropout(0.5)(net)\n",
    "    net = BatchNormalization()(net)\n",
    "    c = LSTM(128)(net)\n",
    "\n",
    "    # channel 4\n",
    "    net = Conv1D(filters=128, kernel_size=9*32, activation='relu')(bert_output)\n",
    "    net = MaxPooling1D(pool_size=2)(net)\n",
    "    net = Dropout(0.5)(net)\n",
    "    net = BatchNormalization()(net)\n",
    "    d = LSTM(128)(net)\n",
    "\n",
    "    merged = concatenate([a,b,c,d])\n",
    "    dense = Dense(100, activation='relu')(merged)\n",
    "    drop = Dropout(0.2)(dense)\n",
    "    outputs = Dense(12, activation='softmax')(merged)\n",
    "    return outputs"
   ]
  },
  {
   "cell_type": "code",
   "execution_count": 71,
   "id": "04acdf8b",
   "metadata": {},
   "outputs": [],
   "source": [
    "def LSTM_CNN_V0(bert_output):\n",
    "    net = Bidirectional(LSTM(128, return_sequences=True))(bert_output)\n",
    "    net = Conv1D(128, 7, activation='relu',padding='same')(net)\n",
    "    net = MaxPooling1D()(net)\n",
    "    net = Conv1D(256, 5, activation='relu',padding='same')(net)\n",
    "    net = MaxPooling1D()(net)\n",
    "    net = Conv1D(512, 3, activation='relu',padding='same')(net)\n",
    "    net = MaxPooling1D()(net)\n",
    "    net = Flatten()(net)\n",
    "    net = Dense(128, activation='relu')(net)\n",
    "    net = Dropout(0.5)(net)\n",
    "    outputs = Dense(12,activation='softmax', name='classifier')(net) \n",
    "    return outputs"
   ]
  },
  {
   "cell_type": "code",
   "execution_count": null,
   "id": "701d7f4b",
   "metadata": {},
   "outputs": [],
   "source": [
    "    print(\"----Building the model----\")\n",
    "    i = Input(shape=(maxlen,))\n",
    "    x = Embedding(V + 1, D,input_length = maxlen)(i)\n",
    "    x = BatchNormalization()(x)\n",
    "    x = Dropout(0.3)(x)\n",
    "    x = Conv1D(32,5,activation = 'relu')(x)\n",
    "    x = Dropout(0.3)(x)\n",
    "    x = MaxPooling1D(2)(x)\n",
    "    x = Bidirectional(LSTM(128,return_sequences=True))(x)\n",
    "    x = LSTM(64)(x)\n",
    "    x = Dropout(0.5)(x)\n",
    "    x = Dense(1, activation='sigmoid')(x)\n",
    "    model = Model(i, x)\n",
    "    model.summary()\n",
    "\n",
    "    #Training the LSTM\n",
    "    print(\"----Training the network----\")\n",
    "    model.compile(optimizer= Adam(0.0005),\n",
    "              loss='binary_crossentropy',\n",
    "              metrics=['accuracy'])"
   ]
  },
  {
   "cell_type": "code",
   "execution_count": null,
   "id": "61321eaf",
   "metadata": {},
   "outputs": [],
   "source": [
    "input_ids = Input(shape=(max_len,), dtype=tf.int32, name=\"input_ids\")\n",
    "    attention_mask = Input(shape=(max_len,),dtype=tf.int32,name = 'attention_mask') #attention mask\n",
    "    sequence_output = transformer(input_ids,attention_mask)[0]\n",
    "    cls_token = sequence_output[:, 0, :]\n",
    "    x = Dense(512, activation='relu')(cls_token)\n",
    "    x = Dropout(0.1)(x)\n",
    "    y = Dense(1, activation='sigmoid')(x)\n",
    "    model = Model(inputs=[input_ids,attention_mask], outputs=y)\n",
    "    model.summary()\n",
    "    model.compile(Adam(lr=2e-5), loss='binary_crossentropy', metrics=['accuracy'])"
   ]
  },
  {
   "cell_type": "code",
   "execution_count": null,
   "id": "d8ffce4f",
   "metadata": {},
   "outputs": [],
   "source": []
  },
  {
   "cell_type": "code",
   "execution_count": null,
   "id": "093f19ce",
   "metadata": {},
   "outputs": [],
   "source": []
  },
  {
   "cell_type": "markdown",
   "id": "acb00a12",
   "metadata": {},
   "source": [
    "# bert"
   ]
  },
  {
   "cell_type": "code",
   "execution_count": 8,
   "id": "66e664c6",
   "metadata": {},
   "outputs": [],
   "source": [
    "process_url = 'pretrained_model/bert_en_uncased_preprocess_3'\n",
    "bert_encoder = hub.KerasLayer(process_url)\n",
    "\n",
    "model_url = 'pretrained_model/bert_en_uncased_L-12_H-768_A-12_4'\n",
    "bert_layer= hub.KerasLayer(model_url)"
   ]
  },
  {
   "cell_type": "code",
   "execution_count": null,
   "id": "19c0ffee",
   "metadata": {},
   "outputs": [],
   "source": [
    "config = {'label_list' : [0, 1], # Label categories\n",
    "          'max_seq_length' : 128, # maximum length of (token) input sequences\n",
    "          'train_batch_size' : 32,\n",
    "          'learning_rate': 2e-5,\n",
    "          'epochs':5,\n",
    "          'optimizer': 'adam',\n",
    "          'dropout': 0.2,\n",
    "          'train_samples': len(train_data),\n",
    "          'valid_samples': len(test_data),\n",
    "          'train_split':0.1,\n",
    "          'valid_split': 0.01\n",
    "         }"
   ]
  },
  {
   "cell_type": "code",
   "execution_count": 55,
   "id": "3fb61202",
   "metadata": {},
   "outputs": [],
   "source": [
    "x = df.clean_text.values\n",
    "y = df.category_id.values\n",
    "# train_df, test_df = train_test_split(df, \\\n",
    "#                                      random_state=42, train_size=0.8)\n",
    "x_train, x_test, y_train, y_test = train_test_split(df['clean_text'],df['category_id'], stratify=df['category_id'])\n"
   ]
  },
  {
   "cell_type": "code",
   "execution_count": 57,
   "id": "6d5b7e09",
   "metadata": {},
   "outputs": [
    {
     "name": "stdout",
     "output_type": "stream",
     "text": [
      "Model: \"model_2\"\n",
      "__________________________________________________________________________________________________\n",
      " Layer (type)                   Output Shape         Param #     Connected to                     \n",
      "==================================================================================================\n",
      " text (InputLayer)              [(None,)]            0           []                               \n",
      "                                                                                                  \n",
      " keras_layer (KerasLayer)       {'input_type_ids':   0           ['text[0][0]']                   \n",
      "                                (None, 128),                                                      \n",
      "                                 'input_mask': (Non                                               \n",
      "                                e, 128),                                                          \n",
      "                                 'input_word_ids':                                                \n",
      "                                (None, 128)}                                                      \n",
      "                                                                                                  \n",
      " keras_layer_1 (KerasLayer)     {'sequence_output':  109482241   ['keras_layer[1][0]',            \n",
      "                                 (None, 128, 768),                'keras_layer[1][1]',            \n",
      "                                 'default': (None,                'keras_layer[1][2]']            \n",
      "                                768),                                                             \n",
      "                                 'pooled_output': (                                               \n",
      "                                None, 768),                                                       \n",
      "                                 'encoder_outputs':                                               \n",
      "                                 [(None, 128, 768),                                               \n",
      "                                 (None, 128, 768),                                                \n",
      "                                 (None, 128, 768),                                                \n",
      "                                 (None, 128, 768),                                                \n",
      "                                 (None, 128, 768),                                                \n",
      "                                 (None, 128, 768),                                                \n",
      "                                 (None, 128, 768),                                                \n",
      "                                 (None, 128, 768),                                                \n",
      "                                 (None, 128, 768),                                                \n",
      "                                 (None, 128, 768),                                                \n",
      "                                 (None, 128, 768),                                                \n",
      "                                 (None, 128, 768)]}                                               \n",
      "                                                                                                  \n",
      " dropout (Dropout)              (None, 768)          0           ['keras_layer_1[1][13]']         \n",
      "                                                                                                  \n",
      " output (Dense)                 (None, 12)           9228        ['dropout[0][0]']                \n",
      "                                                                                                  \n",
      "==================================================================================================\n",
      "Total params: 109,491,469\n",
      "Trainable params: 9,228\n",
      "Non-trainable params: 109,482,241\n",
      "__________________________________________________________________________________________________\n"
     ]
    }
   ],
   "source": [
    "text_input = tf.keras.layers.Input(shape=(), dtype=tf.string, name='text')\n",
    "preprocessed_text = bert_encoder(text_input)\n",
    "outputs = bert_layer(preprocessed_text)\n",
    "\n",
    "# Neural network layers\n",
    "l = tf.keras.layers.Dropout(0.1, name=\"dropout\")(outputs['pooled_output'])\n",
    "l = tf.keras.layers.Dense(12, activation='softmax', name=\"output\")(l)\n",
    "\n",
    "# Use inputs and outputs to construct a final model\n",
    "model = tf.keras.Model(inputs=[text_input], outputs = [l])\n",
    "model.summary()"
   ]
  },
  {
   "cell_type": "code",
   "execution_count": 58,
   "id": "c12793e7",
   "metadata": {},
   "outputs": [],
   "source": [
    "optimizer = tf.keras.optimizers.Adam(learning_rate=config['learning_rate'])\n",
    "\t# we do not have one-hot vectors, we can use sparce categorical cross entropy and accuracy\n",
    "loss = tf.keras.losses.SparseCategoricalCrossentropy(from_logits=True)\n",
    "metric = tf.keras.metrics.SparseCategoricalAccuracy('accuracy')\n",
    "model.compile(optimizer=optimizer, loss=loss, metrics=[metric])"
   ]
  },
  {
   "cell_type": "code",
   "execution_count": 59,
   "id": "0b9a1048",
   "metadata": {},
   "outputs": [
    {
     "name": "stdout",
     "output_type": "stream",
     "text": [
      "Epoch 1/5\n",
      "59/59 [==============================] - 153s 3s/step - loss: 2.4800 - accuracy: 0.1926 - val_loss: 2.3038 - val_accuracy: 0.3110\n",
      "Epoch 2/5\n",
      "59/59 [==============================] - 146s 2s/step - loss: 2.2355 - accuracy: 0.3096 - val_loss: 2.1318 - val_accuracy: 0.3381\n",
      "Epoch 3/5\n",
      "59/59 [==============================] - 148s 3s/step - loss: 2.1169 - accuracy: 0.3330 - val_loss: 2.0396 - val_accuracy: 0.3381\n",
      "Epoch 4/5\n",
      "59/59 [==============================] - 142s 2s/step - loss: 2.0490 - accuracy: 0.3346 - val_loss: 1.9891 - val_accuracy: 0.3381\n",
      "Epoch 5/5\n",
      "59/59 [==============================] - 140s 2s/step - loss: 2.0032 - accuracy: 0.3367 - val_loss: 1.9596 - val_accuracy: 0.3381\n"
     ]
    }
   ],
   "source": [
    "epochs = config['epochs']\n",
    "history = model.fit(x_train,y_train,\n",
    "                    validation_data=(x_test,y_test),\n",
    "                    epochs=epochs,\n",
    "                    verbose=1)"
   ]
  },
  {
   "cell_type": "code",
   "execution_count": 38,
   "id": "41ddc9ff",
   "metadata": {},
   "outputs": [],
   "source": []
  },
  {
   "cell_type": "code",
   "execution_count": 43,
   "id": "70b94f56",
   "metadata": {},
   "outputs": [],
   "source": []
  },
  {
   "cell_type": "code",
   "execution_count": 46,
   "id": "d5f61818",
   "metadata": {},
   "outputs": [],
   "source": [
    "\n"
   ]
  },
  {
   "cell_type": "code",
   "execution_count": null,
   "id": "aae7026b",
   "metadata": {},
   "outputs": [],
   "source": [
    "\n"
   ]
  },
  {
   "cell_type": "markdown",
   "id": "2200fddb",
   "metadata": {},
   "source": [
    "## v2"
   ]
  },
  {
   "cell_type": "code",
   "execution_count": 95,
   "id": "650a2bb1",
   "metadata": {},
   "outputs": [
    {
     "name": "stderr",
     "output_type": "stream",
     "text": [
      "Some weights of the model checkpoint at bert-base-uncased were not used when initializing TFBertModel: ['mlm___cls', 'nsp___cls']\n",
      "- This IS expected if you are initializing TFBertModel from the checkpoint of a model trained on another task or with another architecture (e.g. initializing a BertForSequenceClassification model from a BertForPretraining model).\n",
      "- This IS NOT expected if you are initializing TFBertModel from the checkpoint of a model that you expect to be exactly identical (initializing a BertForSequenceClassification model from a BertForSequenceClassification model).\n",
      "All the weights of TFBertModel were initialized from the model checkpoint at bert-base-uncased.\n",
      "If your task is similar to the task the model of the checkpoint was trained on, you can already use TFBertModel for predictions without further training.\n"
     ]
    }
   ],
   "source": [
    "bert_tokenizer = BertTokenizer.from_pretrained(\"bert-base-uncased\")  \n",
    "# this will download the BERT Trained Model\n",
    "# output_hidden_states=False, as we are training & not interested in output state.\n",
    "config = BertConfig.from_pretrained(\"bert-base-uncased\",output_hidden_states=False) # dropout=0.2, attention_dropout=0.2\n",
    "bert_model = TFBertModel.from_pretrained('bert-base-uncased', config=config)"
   ]
  },
  {
   "cell_type": "code",
   "execution_count": 97,
   "id": "33243f34",
   "metadata": {},
   "outputs": [
    {
     "name": "stderr",
     "output_type": "stream",
     "text": [
      "Truncation was not explicitely activated but `max_length` is provided a specific value, please use `truncation=True` to explicitely truncate examples to max length. Defaulting to 'longest_first' truncation strategy. If you encode pairs of sequences (GLUE-style) with the tokenizer you can select this strategy more precisely by providing a specific strategy to `truncation`.\n",
      "Truncation was not explicitely activated but `max_length` is provided a specific value, please use `truncation=True` to explicitely truncate examples to max length. Defaulting to 'longest_first' truncation strategy. If you encode pairs of sequences (GLUE-style) with the tokenizer you can select this strategy more precisely by providing a specific strategy to `truncation`.\n"
     ]
    },
    {
     "name": "stdout",
     "output_type": "stream",
     "text": [
      "convert_tokens_to_ids: [2023, 2003, 1037, 2742, 3793, 2008, 2057, 2024, 2478, 2005, 4824, 3800, 1010, 2178, 2773, 2008, 2057, 6069, 2224, 2003, 10556, 24679]\n",
      "\n",
      "\n",
      "encode: [101, 2023, 2003, 1037, 2742, 3793, 2008, 2057, 2024, 2478, 2005, 4824, 3800, 1010, 2178, 2773, 2008, 2057, 6069, 2224, 2003, 10556, 24679, 102, 0, 0, 0, 0, 0, 0]\n",
      "\n",
      "\n",
      "encode_plus: {'input_ids': [101, 2023, 2003, 1037, 2742, 3793, 2008, 2057, 2024, 2478, 2005, 4824, 3800, 1010, 2178, 2773, 2008, 2057, 6069, 2224, 2003, 10556, 24679, 102, 0, 0, 0, 0, 0, 0], 'token_type_ids': [0, 0, 0, 0, 0, 0, 0, 0, 0, 0, 0, 0, 0, 0, 0, 0, 0, 0, 0, 0, 0, 0, 0, 0, 0, 0, 0, 0, 0, 0], 'attention_mask': [1, 1, 1, 1, 1, 1, 1, 1, 1, 1, 1, 1, 1, 1, 1, 1, 1, 1, 1, 1, 1, 1, 1, 1, 0, 0, 0, 0, 0, 0]}\n"
     ]
    }
   ],
   "source": [
    "ids = bert_tokenizer.convert_tokens_to_ids(tokens)\n",
    "print(\"convert_tokens_to_ids:\",ids)\n",
    "\n",
    "ids_encode = bert_tokenizer.encode(sent,add_special_tokens = True,max_length =30,pad_to_max_length = True,\n",
    "return_attention_mask = True)\n",
    "print(\"\\n\\nencode:\",ids_encode)\n",
    "\n",
    "ids_encode_plus = bert_tokenizer.encode_plus(sent,add_special_tokens = True,max_length =30,pad_to_max_length = True,\n",
    "return_attention_mask = True)\n",
    "print(\"\\n\\nencode_plus:\",ids_encode_plus)"
   ]
  },
  {
   "cell_type": "code",
   "execution_count": 127,
   "id": "863281e0",
   "metadata": {},
   "outputs": [],
   "source": [
    "# train['review_clean'] = train['review'].apply(clean_text)\n",
    "sentences = df['clean_text']\n",
    "target = df.category_id.values\n",
    "input_ids=[]\n",
    "attention_masks=[]\n",
    "\n",
    "for sent in tqdm(sentences):\n",
    "    bert_inp=bert_tokenizer.encode_plus(sent,add_special_tokens = True,max_length =128,pad_to_max_length = True,return_attention_mask = True)\n",
    "    input_ids.append(bert_inp['input_ids'])\n",
    "    attention_masks.append(bert_inp['attention_mask'])\n",
    "\n",
    "input_ids=np.asarray(input_ids)\n",
    "attention_masks=np.array(attention_masks)\n"
   ]
  },
  {
   "cell_type": "code",
   "execution_count": 99,
   "id": "739a1b66",
   "metadata": {},
   "outputs": [],
   "source": [
    "X_train, X_test, y_train, y_test,train_mask,test_mask=train_test_split(input_ids,\n",
    "                                                                       target,attention_masks,\n",
    "                                                                       test_size=0.2)"
   ]
  },
  {
   "cell_type": "code",
   "execution_count": 107,
   "id": "f944c682",
   "metadata": {},
   "outputs": [
    {
     "name": "stdout",
     "output_type": "stream",
     "text": [
      "Model: \"model_1\"\n",
      "__________________________________________________________________________________________________\n",
      " Layer (type)                   Output Shape         Param #     Connected to                     \n",
      "==================================================================================================\n",
      " input_5 (InputLayer)           [(None, 128)]        0           []                               \n",
      "                                                                                                  \n",
      " tf_bert_model (TFBertModel)    ((None, 128, 768),   109482240   ['input_5[0][0]']                \n",
      "                                 (None, 768))                                                     \n",
      "                                                                                                  \n",
      " tf.__operators__.getitem (Slic  (None, 768)         0           ['tf_bert_model[0][0]']          \n",
      " ingOpLambda)                                                                                     \n",
      "                                                                                                  \n",
      " dense_4 (Dense)                (None, 32)           24608       ['tf.__operators__.getitem[0][0]'\n",
      "                                                                 ]                                \n",
      "                                                                                                  \n",
      " dropout_57 (Dropout)           (None, 32)           0           ['dense_4[0][0]']                \n",
      "                                                                                                  \n",
      " input_6 (InputLayer)           [(None, 128)]        0           []                               \n",
      "                                                                                                  \n",
      " dense_5 (Dense)                (None, 12)           396         ['dropout_57[0][0]']             \n",
      "                                                                                                  \n",
      "==================================================================================================\n",
      "Total params: 109,507,244\n",
      "Trainable params: 25,004\n",
      "Non-trainable params: 109,482,240\n",
      "__________________________________________________________________________________________________\n"
     ]
    }
   ],
   "source": [
    "def create_model(model_):\n",
    "    input_ids = tf.keras.Input(shape=(128,),dtype='int32')\n",
    "    attention_masks = tf.keras.Input(shape=(128,),dtype='int32')\n",
    "    \n",
    "    output = model_(input_ids)\n",
    "    output = output[0]      # this is inline in config.output_hidden_states as we want only the top head\n",
    "    \n",
    "    output = output[:,0,:]  #  We are only interested in <cls> or classification token of the model which can be extracted\n",
    "                            #  using the slice operation. Now we have 2D data and build the network as one desired.\n",
    "                            #  While converting 3D data to 2D we may miss on valuable info.\n",
    "    \n",
    "    output = tf.keras.layers.Dense(32,activation='relu')(output)\n",
    "    output = tf.keras.layers.Dropout(0.2)(output)\n",
    "    output = tf.keras.layers.Dense(12,activation='softmax')(output)\n",
    "    model = tf.keras.models.Model(inputs = [input_ids,attention_masks],outputs = output)\n",
    "    \n",
    "    \n",
    "    for layer in model.layers[:3]:\n",
    "        layer.trainable = False\n",
    "    return model\n",
    "\n",
    "model = create_model(bert_model)\n",
    "model.summary()  "
   ]
  },
  {
   "cell_type": "code",
   "execution_count": 108,
   "id": "4f19f236",
   "metadata": {},
   "outputs": [
    {
     "name": "stdout",
     "output_type": "stream",
     "text": [
      "Epoch 1/4\n",
      "63/63 [==============================] - 135s 2s/step - loss: 2.1878 - accuracy: 0.2504 - val_loss: 1.9326 - val_accuracy: 0.3725\n",
      "Epoch 2/4\n",
      "63/63 [==============================] - 122s 2s/step - loss: 2.0576 - accuracy: 0.2933 - val_loss: 1.8962 - val_accuracy: 0.3725\n",
      "Epoch 3/4\n",
      "63/63 [==============================] - 121s 2s/step - loss: 2.0164 - accuracy: 0.3087 - val_loss: 1.8887 - val_accuracy: 0.3725\n",
      "Epoch 4/4\n",
      "63/63 [==============================] - 121s 2s/step - loss: 2.0109 - accuracy: 0.3107 - val_loss: 1.8812 - val_accuracy: 0.3725\n"
     ]
    }
   ],
   "source": [
    "model.compile(loss='SparseCategoricalCrossentropy',optimizer='adam',metrics=['accuracy'])\n",
    "history=model.fit([X_train,train_mask],y_train,batch_size=32,epochs=4,validation_data=([X_test,test_mask],y_test))"
   ]
  },
  {
   "cell_type": "code",
   "execution_count": null,
   "id": "e73c1779",
   "metadata": {},
   "outputs": [],
   "source": []
  },
  {
   "cell_type": "code",
   "execution_count": null,
   "id": "fcde5f7e",
   "metadata": {},
   "outputs": [],
   "source": []
  },
  {
   "cell_type": "code",
   "execution_count": null,
   "id": "457ee5ea",
   "metadata": {},
   "outputs": [],
   "source": []
  },
  {
   "cell_type": "code",
   "execution_count": null,
   "id": "cd3395c4",
   "metadata": {},
   "outputs": [],
   "source": []
  },
  {
   "cell_type": "markdown",
   "id": "6a8c4567",
   "metadata": {},
   "source": [
    "## v3"
   ]
  },
  {
   "cell_type": "code",
   "execution_count": 111,
   "id": "5d6917b5",
   "metadata": {},
   "outputs": [],
   "source": [
    "SEQ_LEN = 128\n"
   ]
  },
  {
   "cell_type": "code",
   "execution_count": 109,
   "id": "c083b92c",
   "metadata": {},
   "outputs": [],
   "source": [
    "tokenizer = AutoTokenizer.from_pretrained('bert-base-cased')\n"
   ]
  },
  {
   "cell_type": "code",
   "execution_count": 125,
   "id": "c3a04671",
   "metadata": {},
   "outputs": [
    {
     "data": {
      "application/vnd.jupyter.widget-view+json": {
       "model_id": "1e71035221b341629de878f8f48dfaf4",
       "version_major": 2,
       "version_minor": 0
      },
      "text/plain": [
       "Downloading:   0%|          | 0.00/527M [00:00<?, ?B/s]"
      ]
     },
     "metadata": {},
     "output_type": "display_data"
    },
    {
     "name": "stderr",
     "output_type": "stream",
     "text": [
      "Some weights of the model checkpoint at bert-base-cased were not used when initializing TFBertModel: ['mlm___cls', 'nsp___cls']\n",
      "- This IS expected if you are initializing TFBertModel from the checkpoint of a model trained on another task or with another architecture (e.g. initializing a BertForSequenceClassification model from a BertForPretraining model).\n",
      "- This IS NOT expected if you are initializing TFBertModel from the checkpoint of a model that you expect to be exactly identical (initializing a BertForSequenceClassification model from a BertForSequenceClassification model).\n",
      "All the weights of TFBertModel were initialized from the model checkpoint at bert-base-cased.\n",
      "If your task is similar to the task the model of the checkpoint was trained on, you can already use TFBertModel for predictions without further training.\n"
     ]
    }
   ],
   "source": [
    "from transformers import TFAutoModel\n",
    "bert = TFAutoModel.from_pretrained('bert-base-cased')"
   ]
  },
  {
   "cell_type": "code",
   "execution_count": 112,
   "id": "12a3f52a",
   "metadata": {},
   "outputs": [
    {
     "data": {
      "text/plain": [
       "{'input_ids': <tf.Tensor: shape=(1, 128), dtype=int32, numpy=\n",
       "array([[  101, 19082,  1362,   102,     0,     0,     0,     0,     0,\n",
       "            0,     0,     0,     0,     0,     0,     0,     0,     0,\n",
       "            0,     0,     0,     0,     0,     0,     0,     0,     0,\n",
       "            0,     0,     0,     0,     0,     0,     0,     0,     0,\n",
       "            0,     0,     0,     0,     0,     0,     0,     0,     0,\n",
       "            0,     0,     0,     0,     0,     0,     0,     0,     0,\n",
       "            0,     0,     0,     0,     0,     0,     0,     0,     0,\n",
       "            0,     0,     0,     0,     0,     0,     0,     0,     0,\n",
       "            0,     0,     0,     0,     0,     0,     0,     0,     0,\n",
       "            0,     0,     0,     0,     0,     0,     0,     0,     0,\n",
       "            0,     0,     0,     0,     0,     0,     0,     0,     0,\n",
       "            0,     0,     0,     0,     0,     0,     0,     0,     0,\n",
       "            0,     0,     0,     0,     0,     0,     0,     0,     0,\n",
       "            0,     0,     0,     0,     0,     0,     0,     0,     0,\n",
       "            0,     0]], dtype=int32)>, 'attention_mask': <tf.Tensor: shape=(1, 128), dtype=int32, numpy=\n",
       "array([[1, 1, 1, 1, 0, 0, 0, 0, 0, 0, 0, 0, 0, 0, 0, 0, 0, 0, 0, 0, 0, 0,\n",
       "        0, 0, 0, 0, 0, 0, 0, 0, 0, 0, 0, 0, 0, 0, 0, 0, 0, 0, 0, 0, 0, 0,\n",
       "        0, 0, 0, 0, 0, 0, 0, 0, 0, 0, 0, 0, 0, 0, 0, 0, 0, 0, 0, 0, 0, 0,\n",
       "        0, 0, 0, 0, 0, 0, 0, 0, 0, 0, 0, 0, 0, 0, 0, 0, 0, 0, 0, 0, 0, 0,\n",
       "        0, 0, 0, 0, 0, 0, 0, 0, 0, 0, 0, 0, 0, 0, 0, 0, 0, 0, 0, 0, 0, 0,\n",
       "        0, 0, 0, 0, 0, 0, 0, 0, 0, 0, 0, 0, 0, 0, 0, 0, 0, 0]],\n",
       "      dtype=int32)>}"
      ]
     },
     "execution_count": 112,
     "metadata": {},
     "output_type": "execute_result"
    }
   ],
   "source": [
    "tokenizer.encode_plus(\"hello world\", max_length = SEQ_LEN, \n",
    "                               truncation = True, padding = 'max_length', \n",
    "                               add_special_tokens = True, return_token_type_ids = False, \n",
    "                               return_attention_mask = True, return_tensors = 'tf')"
   ]
  },
  {
   "cell_type": "code",
   "execution_count": 133,
   "id": "a17f1c6d",
   "metadata": {},
   "outputs": [],
   "source": [
    "Xids = np.zeros((len(df), SEQ_LEN))\n",
    "Xmask = np.zeros((len(df), SEQ_LEN))"
   ]
  },
  {
   "cell_type": "code",
   "execution_count": 134,
   "id": "f98f9ff9",
   "metadata": {},
   "outputs": [],
   "source": [
    "for i, sequence in enumerate(df['clean_text']):\n",
    "    tokens = tokenizer.encode_plus(sequence, max_length = SEQ_LEN, \n",
    "                               truncation = True, padding = 'max_length', \n",
    "                               add_special_tokens = True, return_token_type_ids = False, \n",
    "                               return_attention_mask = True, return_tensors = 'tf')\n",
    "    Xids[i, :], Xmask[i, :] = tokens['input_ids'], tokens['attention_mask']"
   ]
  },
  {
   "cell_type": "code",
   "execution_count": 135,
   "id": "5bda2382",
   "metadata": {},
   "outputs": [
    {
     "data": {
      "text/plain": [
       "(array([ 8, 11, 11, ..., 11,  8, 11]), (2507,))"
      ]
     },
     "execution_count": 135,
     "metadata": {},
     "output_type": "execute_result"
    }
   ],
   "source": [
    "arr = df['category_id'].values\n",
    "arr, arr.shape"
   ]
  },
  {
   "cell_type": "code",
   "execution_count": 136,
   "id": "6c8c8efc",
   "metadata": {},
   "outputs": [],
   "source": [
    "labels = np.zeros((len(df), arr.max() + 1))\n",
    "labels[np.arange(len(df)), arr] = 1"
   ]
  },
  {
   "cell_type": "code",
   "execution_count": 137,
   "id": "4eee1e01",
   "metadata": {},
   "outputs": [
    {
     "data": {
      "text/plain": [
       "array([[0., 0., 0., ..., 0., 0., 0.],\n",
       "       [0., 0., 0., ..., 0., 0., 1.],\n",
       "       [0., 0., 0., ..., 0., 0., 1.],\n",
       "       ...,\n",
       "       [0., 0., 0., ..., 0., 0., 1.],\n",
       "       [0., 0., 0., ..., 0., 0., 0.],\n",
       "       [0., 0., 0., ..., 0., 0., 1.]])"
      ]
     },
     "execution_count": 137,
     "metadata": {},
     "output_type": "execute_result"
    }
   ],
   "source": [
    "labels"
   ]
  },
  {
   "cell_type": "code",
   "execution_count": 138,
   "id": "d261d3d5",
   "metadata": {},
   "outputs": [
    {
     "data": {
      "text/plain": [
       "<TakeDataset shapes: ((128,), (128,), (12,)), types: (tf.float64, tf.float64, tf.float64)>"
      ]
     },
     "execution_count": 138,
     "metadata": {},
     "output_type": "execute_result"
    }
   ],
   "source": [
    "dataset = tf.data.Dataset.from_tensor_slices((Xids, Xmask, labels))\n",
    "dataset.take(1)"
   ]
  },
  {
   "cell_type": "code",
   "execution_count": 139,
   "id": "fcac0790",
   "metadata": {},
   "outputs": [
    {
     "data": {
      "text/plain": [
       "<TakeDataset shapes: ({input_ids: (128,), attention_mask: (128,)}, (12,)), types: ({input_ids: tf.float64, attention_mask: tf.float64}, tf.float64)>"
      ]
     },
     "execution_count": 139,
     "metadata": {},
     "output_type": "execute_result"
    }
   ],
   "source": [
    "def map_fn(input_ids, masks, labels):\n",
    "    return {'input_ids': input_ids, 'attention_mask': masks}, labels\n",
    "\n",
    "dataset = dataset.map(map_fn)\n",
    "dataset.take(1)"
   ]
  },
  {
   "cell_type": "code",
   "execution_count": 147,
   "id": "286631f7",
   "metadata": {},
   "outputs": [
    {
     "data": {
      "text/plain": [
       "<TakeDataset shapes: ({input_ids: (32, 16, 128), attention_mask: (32, 16, 128)}, (32, 16, 12)), types: ({input_ids: tf.float64, attention_mask: tf.float64}, tf.float64)>"
      ]
     },
     "execution_count": 147,
     "metadata": {},
     "output_type": "execute_result"
    }
   ],
   "source": [
    "batch_size = 32\n",
    "dataset = dataset.shuffle(20000).batch(batch_size, drop_remainder = True)\n",
    "dataset.take(1)"
   ]
  },
  {
   "cell_type": "code",
   "execution_count": 141,
   "id": "f3c68cd0",
   "metadata": {},
   "outputs": [],
   "source": [
    "DS_LEN = len(list(dataset))\n",
    "split = 0.8\n",
    "train = dataset.take(round(DS_LEN * split))\n",
    "test_ds = dataset.skip(round(DS_LEN * split))\n",
    "train_size = len(list(train))\n",
    "train_ds = train.take(round(train_size * split))\n",
    "val_ds = train.skip(round(train_size * split))"
   ]
  },
  {
   "cell_type": "code",
   "execution_count": 155,
   "id": "b466eba3",
   "metadata": {},
   "outputs": [
    {
     "name": "stdout",
     "output_type": "stream",
     "text": [
      "Model: \"model_7\"\n",
      "__________________________________________________________________________________________________\n",
      " Layer (type)                   Output Shape         Param #     Connected to                     \n",
      "==================================================================================================\n",
      " input_ids (InputLayer)         [(None, 128)]        0           []                               \n",
      "                                                                                                  \n",
      " attention_mask (InputLayer)    [(None, 128)]        0           []                               \n",
      "                                                                                                  \n",
      " bert (TFBertMainLayer)         ((None, 128, 768),   108310272   ['input_ids[0][0]',              \n",
      "                                 (None, 768))                     'attention_mask[0][0]']         \n",
      "                                                                                                  \n",
      " dropout_101 (Dropout)          (None, 128, 768)     0           ['bert[5][0]']                   \n",
      "                                                                                                  \n",
      " bidirectional_5 (Bidirectional  (None, 1536)        9443328     ['dropout_101[0][0]']            \n",
      " )                                                                                                \n",
      "                                                                                                  \n",
      " outputs (Dense)                (None, 12)           18444       ['bidirectional_5[0][0]']        \n",
      "                                                                                                  \n",
      "==================================================================================================\n",
      "Total params: 117,772,044\n",
      "Trainable params: 9,461,772\n",
      "Non-trainable params: 108,310,272\n",
      "__________________________________________________________________________________________________\n"
     ]
    }
   ],
   "source": [
    "input_ids = tf.keras.layers.Input(shape = (SEQ_LEN,), name = 'input_ids', dtype = 'int32')\n",
    "mask = tf.keras.layers.Input(shape = (SEQ_LEN,), name = 'attention_mask', dtype = 'int32')\n",
    "\n",
    "#Transformer\n",
    "embeddings = bert.bert(input_ids, attention_mask = mask)[0]\n",
    "\n",
    "#classifier head\n",
    "# x = tf.keras.layers.Dense(1024, activation = 'relu')(embeddings)\n",
    "# y = tf.keras.layers.Dense(2, activation = 'softmax', name = 'outputs')(x)\n",
    "\n",
    "# X = tf.keras.layers.LSTM(64)(embeddings)\n",
    "# X = tf.keras.layers.BatchNormalization()(X)\n",
    "# X = tf.keras.layers.Dense(64, activation='relu')(X)\n",
    "# X = tf.keras.layers.Dropout(0.1)(X)\n",
    "# y = tf.keras.layers.Dense(2, activation = 'softmax', name = 'outputs')(X)\n",
    "\n",
    "X = tf.keras.layers.Dropout(0.1)(embeddings)\n",
    "X = tf.keras.layers.Bidirectional(tf.keras.layers.LSTM(768))(X)\n",
    "\n",
    "\n",
    "\n",
    "\n",
    "# model.add(keras.layers.Dense(128, activation='relu',kernel_regularizer=regularizers.l2(0.0001)))\n",
    "\n",
    "y = tf.keras.layers.Dense(12, activation='softmax', name='outputs')(X)\n",
    "\n",
    "\n",
    "model = tf.keras.Model(inputs = [input_ids, mask], outputs = y)\n",
    "model.summary()"
   ]
  },
  {
   "cell_type": "code",
   "execution_count": 158,
   "id": "8af47279",
   "metadata": {},
   "outputs": [],
   "source": [
    "optimizer = tf.keras.optimizers.Adam(learning_rate = 0.00001, decay = 1e-6,beta_1=0.9, beta_2=0.9,amsgrad=False,\n",
    "     name='Adam')\n",
    "loss = tf.keras.losses.CategoricalCrossentropy()\n",
    "acc = tf.keras.metrics.CategoricalAccuracy('accuracy')\n",
    "\n",
    "model.compile(optimizer = optimizer, loss = loss, metrics = ['accuracy'])"
   ]
  },
  {
   "cell_type": "code",
   "execution_count": 159,
   "id": "a0a3a7b8",
   "metadata": {},
   "outputs": [
    {
     "name": "stdout",
     "output_type": "stream",
     "text": [
      "Epoch 1/20\n",
      "100/100 [==============================] - 168s 2s/step - loss: 0.8289 - accuracy: 0.6769 - val_loss: 0.6798 - val_accuracy: 0.7350\n",
      "Epoch 2/20\n",
      "100/100 [==============================] - 158s 2s/step - loss: 0.7546 - accuracy: 0.7056 - val_loss: 0.6541 - val_accuracy: 0.7325\n",
      "Epoch 3/20\n",
      "100/100 [==============================] - 159s 2s/step - loss: 0.7512 - accuracy: 0.7125 - val_loss: 0.6127 - val_accuracy: 0.7600\n",
      "Epoch 4/20\n",
      "100/100 [==============================] - 159s 2s/step - loss: 0.7184 - accuracy: 0.7056 - val_loss: 0.6341 - val_accuracy: 0.7425\n",
      "Epoch 5/20\n",
      "100/100 [==============================] - 159s 2s/step - loss: 0.6959 - accuracy: 0.7237 - val_loss: 0.5829 - val_accuracy: 0.7625\n",
      "Epoch 6/20\n",
      "100/100 [==============================] - 159s 2s/step - loss: 0.6911 - accuracy: 0.7237 - val_loss: 0.6143 - val_accuracy: 0.7475\n",
      "Epoch 7/20\n",
      "100/100 [==============================] - 163s 2s/step - loss: 0.6898 - accuracy: 0.7256 - val_loss: 0.5668 - val_accuracy: 0.7475\n",
      "Epoch 8/20\n",
      "100/100 [==============================] - 159s 2s/step - loss: 0.6727 - accuracy: 0.7244 - val_loss: 0.5680 - val_accuracy: 0.7775\n",
      "Epoch 9/20\n",
      "100/100 [==============================] - 162s 2s/step - loss: 0.6819 - accuracy: 0.7269 - val_loss: 0.6347 - val_accuracy: 0.7300\n",
      "Epoch 10/20\n",
      "100/100 [==============================] - 162s 2s/step - loss: 0.6866 - accuracy: 0.7306 - val_loss: 0.5814 - val_accuracy: 0.7375\n",
      "Epoch 11/20\n",
      "100/100 [==============================] - 164s 2s/step - loss: 0.6731 - accuracy: 0.7250 - val_loss: 0.5753 - val_accuracy: 0.7325\n",
      "Epoch 12/20\n",
      "100/100 [==============================] - 161s 2s/step - loss: 0.6836 - accuracy: 0.7262 - val_loss: 0.5938 - val_accuracy: 0.7325\n",
      "Epoch 13/20\n",
      "100/100 [==============================] - 160s 2s/step - loss: 0.6920 - accuracy: 0.7269 - val_loss: 0.5939 - val_accuracy: 0.7375\n",
      "Epoch 14/20\n",
      "100/100 [==============================] - 170s 2s/step - loss: 0.6678 - accuracy: 0.7188 - val_loss: 0.6038 - val_accuracy: 0.7250\n",
      "Epoch 15/20\n",
      "100/100 [==============================] - 170s 2s/step - loss: 0.6520 - accuracy: 0.7350 - val_loss: 0.5701 - val_accuracy: 0.7650\n",
      "Epoch 16/20\n",
      "100/100 [==============================] - 161s 2s/step - loss: 0.6750 - accuracy: 0.7219 - val_loss: 0.5277 - val_accuracy: 0.7825\n",
      "Epoch 17/20\n",
      "100/100 [==============================] - 161s 2s/step - loss: 0.6480 - accuracy: 0.7344 - val_loss: 0.5577 - val_accuracy: 0.7525\n",
      "Epoch 18/20\n",
      "100/100 [==============================] - 158s 2s/step - loss: 0.6734 - accuracy: 0.7212 - val_loss: 0.5246 - val_accuracy: 0.7800\n",
      "Epoch 19/20\n",
      "100/100 [==============================] - 159s 2s/step - loss: 0.6267 - accuracy: 0.7406 - val_loss: 0.6217 - val_accuracy: 0.7250\n",
      "Epoch 20/20\n",
      "100/100 [==============================] - 162s 2s/step - loss: 0.6876 - accuracy: 0.7156 - val_loss: 0.5159 - val_accuracy: 0.7575\n"
     ]
    }
   ],
   "source": [
    "history = model.fit(\n",
    "    train_ds,\n",
    "    validation_data = val_ds,\n",
    "    epochs = 20\n",
    ")"
   ]
  },
  {
   "cell_type": "code",
   "execution_count": null,
   "id": "7e0186b1",
   "metadata": {},
   "outputs": [],
   "source": []
  },
  {
   "cell_type": "markdown",
   "id": "33a2a3cb",
   "metadata": {},
   "source": [
    "### evluation"
   ]
  },
  {
   "cell_type": "code",
   "execution_count": 160,
   "id": "0a0ae952",
   "metadata": {},
   "outputs": [
    {
     "data": {
      "text/plain": [
       "{'loss': [0.8289080858230591,\n",
       "  0.754568338394165,\n",
       "  0.751180112361908,\n",
       "  0.7183821797370911,\n",
       "  0.6959150433540344,\n",
       "  0.6910960674285889,\n",
       "  0.6897872686386108,\n",
       "  0.6727367639541626,\n",
       "  0.6819390654563904,\n",
       "  0.6866177320480347,\n",
       "  0.6731005907058716,\n",
       "  0.6836284399032593,\n",
       "  0.6920446753501892,\n",
       "  0.6678232550621033,\n",
       "  0.6519617438316345,\n",
       "  0.6749523282051086,\n",
       "  0.6480475664138794,\n",
       "  0.6733878254890442,\n",
       "  0.6267149448394775,\n",
       "  0.6876454949378967],\n",
       " 'accuracy': [0.6768749952316284,\n",
       "  0.7056249976158142,\n",
       "  0.7124999761581421,\n",
       "  0.7056249976158142,\n",
       "  0.7237499952316284,\n",
       "  0.7237499952316284,\n",
       "  0.7256249785423279,\n",
       "  0.7243750095367432,\n",
       "  0.7268750071525574,\n",
       "  0.7306249737739563,\n",
       "  0.7250000238418579,\n",
       "  0.7262499928474426,\n",
       "  0.7268750071525574,\n",
       "  0.71875,\n",
       "  0.7350000143051147,\n",
       "  0.721875011920929,\n",
       "  0.734375,\n",
       "  0.7212499976158142,\n",
       "  0.7406250238418579,\n",
       "  0.715624988079071],\n",
       " 'val_loss': [0.6797513365745544,\n",
       "  0.654137372970581,\n",
       "  0.6127145886421204,\n",
       "  0.6340678930282593,\n",
       "  0.5828951001167297,\n",
       "  0.6143114566802979,\n",
       "  0.5668437480926514,\n",
       "  0.5679842233657837,\n",
       "  0.6347028613090515,\n",
       "  0.5814293622970581,\n",
       "  0.5752683877944946,\n",
       "  0.5937678813934326,\n",
       "  0.5938848257064819,\n",
       "  0.6037808060646057,\n",
       "  0.57008957862854,\n",
       "  0.527697741985321,\n",
       "  0.5576696991920471,\n",
       "  0.5245519876480103,\n",
       "  0.6217445135116577,\n",
       "  0.5158566236495972],\n",
       " 'val_accuracy': [0.7350000143051147,\n",
       "  0.7325000166893005,\n",
       "  0.7599999904632568,\n",
       "  0.7425000071525574,\n",
       "  0.762499988079071,\n",
       "  0.7475000023841858,\n",
       "  0.7475000023841858,\n",
       "  0.7774999737739563,\n",
       "  0.7300000190734863,\n",
       "  0.737500011920929,\n",
       "  0.7325000166893005,\n",
       "  0.7325000166893005,\n",
       "  0.737500011920929,\n",
       "  0.7250000238418579,\n",
       "  0.7649999856948853,\n",
       "  0.7825000286102295,\n",
       "  0.7524999976158142,\n",
       "  0.7799999713897705,\n",
       "  0.7250000238418579,\n",
       "  0.7574999928474426]}"
      ]
     },
     "execution_count": 160,
     "metadata": {},
     "output_type": "execute_result"
    }
   ],
   "source": [
    "history.history"
   ]
  },
  {
   "cell_type": "code",
   "execution_count": 162,
   "id": "bc208cf2",
   "metadata": {},
   "outputs": [
    {
     "name": "stdout",
     "output_type": "stream",
     "text": [
      "100/100 [==============================] - 79s 794ms/step - loss: 0.5760 - accuracy: 0.7419\n"
     ]
    }
   ],
   "source": [
    "train_loss, train_accuracy = model.evaluate(train_ds)"
   ]
  },
  {
   "cell_type": "code",
   "execution_count": 163,
   "id": "c46cf9c7",
   "metadata": {},
   "outputs": [
    {
     "name": "stdout",
     "output_type": "stream",
     "text": [
      "train_loss:  0.5760139226913452\n",
      "train_accuracy:  0.7418749928474426\n"
     ]
    }
   ],
   "source": [
    "print(\"train_loss: \", train_loss)\n",
    "print(\"train_accuracy: \", train_accuracy)"
   ]
  },
  {
   "cell_type": "code",
   "execution_count": 164,
   "id": "34d18aee",
   "metadata": {},
   "outputs": [
    {
     "name": "stdout",
     "output_type": "stream",
     "text": [
      "31/31 [==============================] - 25s 790ms/step - loss: 0.5851 - accuracy: 0.7440\n"
     ]
    }
   ],
   "source": [
    "test_loss, test_accuracy = model.evaluate(test_ds)"
   ]
  },
  {
   "cell_type": "code",
   "execution_count": 165,
   "id": "04c7429e",
   "metadata": {},
   "outputs": [
    {
     "name": "stdout",
     "output_type": "stream",
     "text": [
      "test_loss:  0.5850715041160583\n",
      "test_accuracy:  0.7439516186714172\n"
     ]
    }
   ],
   "source": [
    "print(\"test_loss: \", test_loss)\n",
    "print(\"test_accuracy: \", test_accuracy)"
   ]
  },
  {
   "cell_type": "code",
   "execution_count": 166,
   "id": "39b53bb1",
   "metadata": {},
   "outputs": [
    {
     "data": {
      "text/plain": [
       "{0: 'AMBIENCE#GENERAL',\n",
       " 1: 'DRINKS#PRICES',\n",
       " 2: 'DRINKS#QUALITY',\n",
       " 3: 'DRINKS#STYLE_OPTIONS',\n",
       " 4: 'FOOD#PRICES',\n",
       " 5: 'FOOD#QUALITY',\n",
       " 6: 'FOOD#STYLE_OPTIONS',\n",
       " 7: 'LOCATION#GENERAL',\n",
       " 8: 'RESTAURANT#GENERAL',\n",
       " 9: 'RESTAURANT#MISCELLANEOUS',\n",
       " 10: 'RESTAURANT#PRICES',\n",
       " 11: 'SERVICE#GENERAL'}"
      ]
     },
     "execution_count": 166,
     "metadata": {},
     "output_type": "execute_result"
    }
   ],
   "source": [
    "dic_y_mapping"
   ]
  },
  {
   "cell_type": "code",
   "execution_count": 173,
   "id": "8f4aafd3",
   "metadata": {},
   "outputs": [],
   "source": [
    "def pred_text(model, text, max_length = 128):\n",
    "    tokens = tokenizer.encode_plus(text, max_length = max_length, \n",
    "                               truncation = True, padding = 'max_length', \n",
    "                               add_special_tokens = True, return_token_type_ids = False, \n",
    "                               return_attention_mask = True, return_tensors = 'tf')\n",
    "    probs = model.predict({\n",
    "        'input_ids': tf.cast(tokens['input_ids'], tf.float64),\n",
    "        'attention_mask': tf.cast(tokens['attention_mask'], tf.float64)\n",
    "    })\n",
    "    \n",
    "    pred = np.argmax(probs[0])\n",
    "    \n",
    "    prediction = dic_y_mapping[pred]\n",
    "    confidence = probs[0][pred]\n",
    "    \n",
    "    return prediction, confidence"
   ]
  },
  {
   "cell_type": "code",
   "execution_count": 174,
   "id": "2c99bcfd",
   "metadata": {},
   "outputs": [
    {
     "data": {
      "text/plain": [
       "('FOOD#PRICES', 0.44310364)"
      ]
     },
     "execution_count": 174,
     "metadata": {},
     "output_type": "execute_result"
    }
   ],
   "source": [
    "text = 'price high food good would come back'\n",
    "pred_text(model, text)"
   ]
  },
  {
   "cell_type": "code",
   "execution_count": null,
   "id": "5db37c33",
   "metadata": {},
   "outputs": [],
   "source": []
  },
  {
   "cell_type": "code",
   "execution_count": null,
   "id": "482111a9",
   "metadata": {},
   "outputs": [],
   "source": []
  },
  {
   "cell_type": "markdown",
   "id": "2a9ab360",
   "metadata": {},
   "source": [
    "### save model"
   ]
  },
  {
   "cell_type": "code",
   "execution_count": 181,
   "id": "41d4fb4f",
   "metadata": {},
   "outputs": [
    {
     "data": {
      "text/plain": [
       "'/data/jyu29'"
      ]
     },
     "execution_count": 181,
     "metadata": {},
     "output_type": "execute_result"
    }
   ],
   "source": [
    "os.getcwd()"
   ]
  },
  {
   "cell_type": "code",
   "execution_count": 184,
   "id": "99dd9a13",
   "metadata": {},
   "outputs": [
    {
     "name": "stderr",
     "output_type": "stream",
     "text": [
      "WARNING:absl:Found untraced functions such as embeddings_layer_call_fn, embeddings_layer_call_and_return_conditional_losses, encoder_layer_call_fn, encoder_layer_call_and_return_conditional_losses, pooler_layer_call_fn while saving (showing 5 of 1075). These functions will not be directly callable after loading.\n"
     ]
    },
    {
     "name": "stdout",
     "output_type": "stream",
     "text": [
      "INFO:tensorflow:Assets written to: pretrained_model/aspect_category_model/assets\n"
     ]
    },
    {
     "name": "stderr",
     "output_type": "stream",
     "text": [
      "INFO:tensorflow:Assets written to: pretrained_model/aspect_category_model/assets\n",
      "WARNING:absl:<keras.layers.recurrent.LSTMCell object at 0x7fd975fc02e0> has the same name 'LSTMCell' as a built-in Keras object. Consider renaming <class 'keras.layers.recurrent.LSTMCell'> to avoid naming conflicts when loading with `tf.keras.models.load_model`. If renaming is not possible, pass the object in the `custom_objects` parameter of the load function.\n",
      "WARNING:absl:<keras.layers.recurrent.LSTMCell object at 0x7fd976030400> has the same name 'LSTMCell' as a built-in Keras object. Consider renaming <class 'keras.layers.recurrent.LSTMCell'> to avoid naming conflicts when loading with `tf.keras.models.load_model`. If renaming is not possible, pass the object in the `custom_objects` parameter of the load function.\n"
     ]
    }
   ],
   "source": [
    "model.save(\"pretrained_model/aspect_category_model\")"
   ]
  },
  {
   "cell_type": "code",
   "execution_count": 185,
   "id": "793a8689",
   "metadata": {},
   "outputs": [],
   "source": [
    "model_serve = tf.keras.models.load_model('pretrained_model/aspect_category_model')"
   ]
  },
  {
   "cell_type": "code",
   "execution_count": 196,
   "id": "a07497e8",
   "metadata": {},
   "outputs": [
    {
     "data": {
      "text/plain": [
       "('AMBIENCE#GENERAL', 0.9832991)"
      ]
     },
     "execution_count": 196,
     "metadata": {},
     "output_type": "execute_result"
    }
   ],
   "source": [
    "text='something atmosphere makes come back nearly every week'\n",
    "pred_text(model_serve, text)"
   ]
  },
  {
   "cell_type": "code",
   "execution_count": null,
   "id": "292663b2",
   "metadata": {},
   "outputs": [],
   "source": []
  },
  {
   "cell_type": "code",
   "execution_count": null,
   "id": "298957cb",
   "metadata": {},
   "outputs": [],
   "source": []
  }
 ],
 "metadata": {
  "kernelspec": {
   "display_name": "Python 3",
   "language": "python",
   "name": "python3"
  },
  "language_info": {
   "codemirror_mode": {
    "name": "ipython",
    "version": 3
   },
   "file_extension": ".py",
   "mimetype": "text/x-python",
   "name": "python",
   "nbconvert_exporter": "python",
   "pygments_lexer": "ipython3",
   "version": "3.8.5"
  },
  "toc-autonumbering": true
 },
 "nbformat": 4,
 "nbformat_minor": 5
}
